{
 "cells": [
  {
   "cell_type": "code",
   "execution_count": 1,
   "id": "7aac534c-f424-4dce-a421-2d73fcef529d",
   "metadata": {},
   "outputs": [],
   "source": [
    "# Import necessary libraries\n",
    "import cdflib\n",
    "import xarray as xr\n",
    "import os\n",
    "import urllib.request\n",
    "import numpy as np\n",
    "import pandas as pd\n",
    "import datetime as dt\n",
    "from tqdm import tqdm\n",
    "import matplotlib.pyplot as plt\n",
    "import cartopy.crs as ccrs\n",
    "import math\n",
    "from scipy.signal import argrelextrema\n",
    "\n",
    "import sys\n",
    "import glob\n",
    "sys.path.append('/home/pxv220016/prasoon/data/SAMI3-GITM-python')\n",
    "from utility_programs import filters\n",
    "from utility_programs.read_routines import SAMI, GITM\n",
    "import SAMI3_ESMF_Regrid\n",
    "\n",
    "import h5py\n",
    "import dask\n",
    "from scipy.signal import savgol_filter\n",
    "from scipy.interpolate import CubicSpline\n",
    "import h5netcdf\n",
    "import flox\n",
    "import importlib as il \n",
    "import ecef_geodetic\n"
   ]
  },
  {
   "cell_type": "code",
   "execution_count": 2,
   "id": "b57a7c90-fee6-48eb-adc8-8bd2de0a3571",
   "metadata": {},
   "outputs": [
    {
     "name": "stderr",
     "output_type": "stream",
     "text": [
      "100%|█████████████████████████████████████████████| 6/6 [00:31<00:00,  5.30s/it]"
     ]
    },
    {
     "name": "stdout",
     "output_type": "stream",
     "text": [
      "\n",
      "Columns in Satellite Data: \n",
      " ['Timestamp', 'Latitude', 'Longitude', 'Radius', 'GPS_Position', 'LEO_Position', 'PRN', 'L1', 'L2', 'P1', 'P2', 'S1_C_N0', 'S2_C_N0', 'Absolute_STEC', 'Absolute_VTEC', 'Elevation_Angle', 'Relative_STEC', 'Relative_STEC_RMS', 'DCB', 'DCB_Error']\n",
      "\n",
      "<xarray.Dataset> Size: 11MB\n",
      "Dimensions:            (step: 56708)\n",
      "Dimensions without coordinates: step\n",
      "Data variables: (12/26)\n",
      "    Timestamp          (step) float64 454kB 6.353e+13 6.353e+13 ... 6.353e+13\n",
      "    Latitude           (step) float64 454kB -60.57 -60.57 -60.57 ... 26.16 26.16\n",
      "    Longitude          (step) float64 454kB -175.0 -175.0 -175.0 ... 2.732 2.732\n",
      "    Radius             (step) float64 454kB 6.825e+06 6.825e+06 ... 6.822e+06\n",
      "    GPS_Position_X     (step) float64 454kB -3.798e+06 -1.924e+07 ... 2.534e+07\n",
      "    GPS_Position_Y     (step) float64 454kB -1.475e+07 1.345e+07 ... -7.897e+06\n",
      "    ...                 ...\n",
      "    Relative_STEC      (step) float64 454kB 86.47 56.26 80.43 ... 52.91 37.42\n",
      "    Relative_STEC_RMS  (step) float64 454kB 0.7086 0.8702 ... 0.6698 0.2849\n",
      "    DCB                float64 8B -39.28\n",
      "    DCB_Error          float64 8B 0.9034\n",
      "    date               (step) datetime64[ns] 454kB 2013-03-18 ... 2013-03-18T...\n",
      "    LT                 (step) float64 454kB 12.33 12.33 12.33 ... 0.1738 0.1738\n"
     ]
    },
    {
     "name": "stderr",
     "output_type": "stream",
     "text": [
      "\n"
     ]
    }
   ],
   "source": [
    "fname = ['GR_OPER_TEC1TMS_2F_20130316T000000_20130316T235959_0101.cdf', 'GR_OPER_TEC1TMS_2F_20130317T000000_20130317T235959_0101.cdf', 'GR_OPER_TEC1TMS_2F_20130318T000000_20130318T235959_0101.cdf', 'GR_OPER_TEC2TMS_2F_20130316T000000_20130316T235959_0101.cdf', 'GR_OPER_TEC2TMS_2F_20130317T000000_20130317T235959_0101.cdf', 'GR_OPER_TEC2TMS_2F_20130318T000000_20130318T235959_0101.cdf']\n",
    "grace = []\n",
    "\n",
    "\n",
    "# Adding the local time\n",
    "ecef_geodetic = il.reload(ecef_geodetic)\n",
    "\n",
    "\n",
    "for f in tqdm(fname):\n",
    "    path = 'ESA_GRACE_data/' + f\n",
    "    data = xr.Dataset()\n",
    "    d = cdflib.CDF(path)\n",
    "\n",
    "    step = range(len(d['Timestamp']))\n",
    "    \n",
    "    for var_name in d.cdf_info().zVariables:\n",
    "        \n",
    "        var_data = d[var_name]\n",
    "\n",
    "        if var_name == 'DCB' or var_name == 'DCB_Error' :\n",
    "            data[var_name] = d[var_name]\n",
    "        \n",
    "        elif type(var_data[0]) == np.ndarray:\n",
    "            var_name1 = var_name + '_X'\n",
    "            var_name2 = var_name + '_Y'\n",
    "            var_name3 = var_name + '_Z'\n",
    "            data[var_name1] = ('step', [i for i,j,k in var_data], {'step': step})\n",
    "            data[var_name2] = ('step', [j for i,j,k in var_data], {'step': step})\n",
    "            data[var_name3] = ('step', [k for i,j,k in var_data], {'step': step})\n",
    "\n",
    "        else:\n",
    "            data[var_name] = ('step', var_data, {'step': step})\n",
    "\n",
    "\n",
    "    d0 = dt.datetime.strptime(f.split('_')[4], '%Y%m%dT%f')\n",
    "    date = [d0 + pd.Timedelta(milliseconds = (i - data.Timestamp[0].values)) for i in data.Timestamp.values]\n",
    "    data['date'] = ('step', [i for i in date], {'step': step})\n",
    "    lt = ecef_geodetic.ut_to_lt(date, data['Longitude'].values)\n",
    "    data['LT'] = ('step', lt, {'step':step})\n",
    "    \n",
    "    grace.append(data)\n",
    "\n",
    "print()\n",
    "print('Columns in Satellite Data: \\n', d.cdf_info().zVariables)\n",
    "print()\n",
    "print(data)\n"
   ]
  },
  {
   "cell_type": "markdown",
   "id": "bedad380-c1b2-4317-9dcd-865db98ab871",
   "metadata": {},
   "source": [
    "### Note\n",
    "- LEO_Position given in the data are the positions of the GRACE satellite in the ECEF cartesian system (WGS84 is being used) and units are in meters\n",
    "- GPS_Position given in the data are the positions of the GPS satellites\n",
    "- Latitude, Longitude, and Radius represent the position of the GRACE satellite and they are in the spherical coordinates system (Geocentric or ECEF spherical system)\n",
    "- Absolute VTEC is recommended to be calculated by using GPS rays of elevation angle as at least 50 degrees (in documentation).\n",
    "- `grace` is having the raw data for different dates, `grace_data` is having filtered data (only elevation angle >= 50 is present)"
   ]
  },
  {
   "cell_type": "code",
   "execution_count": 57,
   "id": "ad4cf417-e1c8-433a-9df0-757f941e32b5",
   "metadata": {},
   "outputs": [
    {
     "name": "stdout",
     "output_type": "stream",
     "text": [
      "[[0, 1738], [1738, 3694], [3694, 5399], [5399, 7224], [7224, 8962], [8962, 10883], [10883, 12666], [12666, 14495], [14495, 16329], [16329, 18110], [18110, 20127], [20127, 21888], [21888, 23755], [23755, 25540], [25540, 27270], [27270, 29070], [29070, 30796], [30796, 32829], [32829, 34370], [34370, 36294], [36294, 38046], [38046, 39935], [39935, 41535], [41535, 46706], [46706, 45128], [45128, 50131], [50131, 48471], [48471, 53418], [53418, 51863]]\n",
      "[1, 1, 2, 2, 3, 3, 4, 4, 5, 5, 6, 6, 7, 7, 8, 8, 9, 9, 10, 10, 11, 11, 12, 12, 13, 13, 14, 14, 15, 15]\n"
     ]
    }
   ],
   "source": [
    "d17 = grace[1]\n",
    "\n",
    "latitude = list(d17.Latitude.values)\n",
    "\n",
    "a = 0\n",
    "b = 1000\n",
    "\n",
    "c = 1000\n",
    "d = 2000\n",
    "\n",
    "maxi_lat = []\n",
    "mini_lat = []\n",
    "\n",
    "i = 0\n",
    "c = 1\n",
    "\n",
    "orbits = []\n",
    "orbit_num = []\n",
    "min_last = 0\n",
    "\n",
    "while(i+3600 < len(latitude)):\n",
    "    m = max(latitude[i: i +3600])\n",
    "    mi = min(latitude[i: i +3600])\n",
    "    \n",
    "    if min_last != 0:\n",
    "        orbits.append([min_last, latitude.index(m)])\n",
    "        \n",
    "    orbits.append([latitude.index(m), latitude.index(mi)])\n",
    "    min_last = latitude.index(mi)\n",
    "    i += 3600\n",
    "    orbit_num.append(c)\n",
    "    orbit_num.append(c)\n",
    "    c += 1\n",
    "\n",
    "print(orbits)\n",
    "print(orbit_num)\n",
    "\n",
    "\n"
   ]
  },
  {
   "cell_type": "code",
   "execution_count": 62,
   "id": "ba5d4985-6301-4bc4-b62d-f104f33f15b0",
   "metadata": {},
   "outputs": [
    {
     "name": "stdout",
     "output_type": "stream",
     "text": [
      "198\n",
      "8128\n",
      "[ 2  3  4  5  6  7  8  9 10 11 12 13 14 15 16 17 18 19 20 21 22 23 25 26\n",
      " 28 29 30 31 32]\n"
     ]
    },
    {
     "name": "stderr",
     "output_type": "stream",
     "text": [
      "22it [00:44,  2.04s/it]"
     ]
    },
    {
     "name": "stdout",
     "output_type": "stream",
     "text": [
      "done\n"
     ]
    },
    {
     "name": "stderr",
     "output_type": "stream",
     "text": [
      "\n"
     ]
    }
   ],
   "source": [
    "#orbits = [[3200, 5280], [5280, 6880],[6880, 8810], [8810, 10480], [10480, 12280], [12280, 14080], [14080,15780], [15780, 17780]]\n",
    "nature = ['descending','ascending']*(c-1) # 0 means ascending and 1 means descending\n",
    "#orbit_num = [1,1,2,2,3,3,4,4,5,5,6,6,7,7]\n",
    "\n",
    "c_n = []\n",
    "for i in range(32):\n",
    "    c_n.append('gps_' + str(i+1) + '_X')\n",
    "    c_n.append('gps_' + str(i+1) + '_Y')\n",
    "    c_n.append('gps_' + str(i+1) + '_Z')\n",
    "    c_n.append('gps_' + str(i+1) + '_stec')\n",
    "    c_n.append('gps_' + str(i+1) + '_elev')\n",
    "    c_n.append('gps_' + str(i+1) + '_interp_stec')\n",
    "\n",
    "c_name = ['orbit', 'nature', 'time', 'grace_X', 'grace_Y', 'grace_Z'] + c_n\n",
    "print(len(c_name))\n",
    "\n",
    "date_t = np.unique(d17.date[orbits[0][0]:orbits[-1][1]].values)\n",
    "t = len(date_t)\n",
    "print(t)\n",
    "\n",
    "print(np.unique(d17.PRN))\n",
    "data_n = np.zeros((t+1, len(c_name)))\n",
    "data_n = data_n.tolist()\n",
    "\n",
    "for i in range(len(c_name)):\n",
    "    data_n[0][i] = c_name[i]\n",
    "\n",
    "\n",
    "for a, b, c in tqdm(zip(orbits, nature, orbit_num)):\n",
    "    a1 , a2 = a\n",
    "    \n",
    "    subset = d17.sel(step=slice(a1, a2+1))\n",
    "    d_n = list(subset.groupby('date'))\n",
    "    \n",
    "    for time, d in d_n:\n",
    "        for tt in range(t):\n",
    "            if time == date_t[tt]:\n",
    "                \n",
    "                for i in range(len(d.PRN.values)):\n",
    "                    pc = (d.PRN.values[i])*6\n",
    "                    \n",
    "                    data_n[tt+1][pc] = d.GPS_Position_X.values[i]\n",
    "                    data_n[tt+1][pc+1] = d.GPS_Position_Y.values[i]\n",
    "                    data_n[tt+1][pc+2] = d.GPS_Position_Z.values[i]\n",
    "                    data_n[tt+1][pc+3] = d.Absolute_STEC.values[i]\n",
    "                    data_n[tt+1][pc+4] = d.Elevation_Angle.values[i]\n",
    "                    #data_n[tt+1][pc+5] = sami_calculated_stec\n",
    "                    \n",
    "                    if data_n[tt+1][3] == 0:\n",
    "                        data_n[tt+1][0] = c\n",
    "                        data_n[tt+1][1] = b\n",
    "                        data_n[tt+1][2] = time\n",
    "                        data_n[tt+1][3] = d.LEO_Position_X.values[i]\n",
    "                        data_n[tt+1][4] = d.LEO_Position_Y.values[i]\n",
    "                        data_n[tt+1][5] = d.LEO_Position_Z.values[i]\n",
    "                    \n",
    "                break\n",
    "\n",
    "\n",
    "print('done')\n",
    "\n"
   ]
  },
  {
   "cell_type": "code",
   "execution_count": 63,
   "id": "c3b7a89c-5d00-4125-a08e-b745589cf203",
   "metadata": {},
   "outputs": [
    {
     "name": "stdout",
     "output_type": "stream",
     "text": [
      "CSV file 'output.csv' has been created.\n"
     ]
    }
   ],
   "source": [
    "import csv\n",
    "filename = 'output.csv'\n",
    "\n",
    "# Write the data to a CSV file\n",
    "with open(filename, 'w', newline='') as csvfile:\n",
    "    csvwriter = csv.writer(csvfile)\n",
    "    csvwriter.writerows(data_n)\n",
    "\n",
    "print(f\"CSV file '{filename}' has been created.\")"
   ]
  },
  {
   "cell_type": "markdown",
   "id": "2d8a5216-0432-458b-a7ae-e7249f0acbc7",
   "metadata": {},
   "source": [
    "# Line of Sight TEC (LOSTEC)"
   ]
  },
  {
   "cell_type": "code",
   "execution_count": 179,
   "id": "2f244967-69f5-4bb8-b5d4-d370353a093e",
   "metadata": {},
   "outputs": [
    {
     "name": "stdout",
     "output_type": "stream",
     "text": [
      "GRACE lat lon alt 57.669373726409965 -179.46529393999245 454.226927455523\n",
      "GPS lat lon alt 17.204854696668217 145.98988256466762 19973.62413684649\n"
     ]
    }
   ],
   "source": [
    "ecef_geodetic = il.reload(ecef_geodetic)\n",
    "edens = []\n",
    "lat_r = []\n",
    "lon_r = []\n",
    "alt_r = []\n",
    "time_r = []\n",
    "sep_r = []\n",
    "index = []\n",
    "\n",
    "prn = 2\n",
    "col = 2*6\n",
    "\n",
    "for i in range(50,186):\n",
    "#for i in range(len(date_t)+1):\n",
    "    if i != 0 and data_n[i][col] != 0:\n",
    "        #print(i, data_n[i][col])\n",
    "        \n",
    "        t_i = data_n[i][2]\n",
    "        l_x = data_n[i][3]\n",
    "        l_y = data_n[i][4]\n",
    "        l_z = data_n[i][5]\n",
    "        g_x = data_n[i][col+0]\n",
    "        g_y = data_n[i][col+1]\n",
    "        g_z = data_n[i][col+2]\n",
    "        \n",
    "        #print(data_n[i][col+3], 'STEC value')\n",
    "        del_x = g_x - l_x\n",
    "        del_y = g_y - l_y\n",
    "        del_z = g_z - l_z\n",
    "        sp = np.sqrt(del_x**2 + del_y**2 + del_z**2)\n",
    "\n",
    "        N = 1000\n",
    "        '''\n",
    "        x_seq = np.geomspace(l_x,g_x,N)\n",
    "        y_seq = np.geomspace(l_y,g_y,N)\n",
    "        z_seq = np.geomspace(l_z,g_z,N)\n",
    "\n",
    "        for x,y,z in zip(x_seq, y_seq, z_seq):\n",
    "            lat_n, lon_n, alt_n = ecef_geodetic.ecef_to_lla(x, y, z)\n",
    "            \n",
    "            lat_r.append(lat_n)\n",
    "            lon_r.append(lon_n)\n",
    "            alt_r.append(alt_n/1000)\n",
    "            time_r.append(t_i)\n",
    "            index.append(i)\n",
    "            sep_r.append(sp)\n",
    "        '''\n",
    "        \n",
    "        num = np.geomspace(1e-3, 1, N)\n",
    "        \n",
    "        \n",
    "        for n in num:\n",
    "            x = l_x + n*del_x\n",
    "            y = l_y + n*del_y\n",
    "            z = l_z + n*del_z\n",
    "            \n",
    "            lat_n, lon_n, alt_n = ecef_geodetic.ecef_to_lla(x, y, z)\n",
    "            \n",
    "            lat_r.append(lat_n)\n",
    "            lon_r.append(lon_n)\n",
    "            alt_r.append(alt_n/1000)\n",
    "            time_r.append(t_i)\n",
    "            index.append(i)\n",
    "            sep_r.append(sp)\n",
    "\n",
    "\n",
    "\n",
    "print('GRACE lat lon alt', lat_r[0], lon_r[0], alt_r[0])\n",
    "print('GPS lat lon alt', lat_r[-1], lon_r[-1], alt_r[-1])\n",
    "\n",
    "        "
   ]
  },
  {
   "cell_type": "code",
   "execution_count": 180,
   "id": "507fbca7-b5a4-4161-ac67-082ed6e6dda6",
   "metadata": {},
   "outputs": [
    {
     "name": "stdout",
     "output_type": "stream",
     "text": [
      "CSV file created\n"
     ]
    }
   ],
   "source": [
    "# Name the csv file (no need to create a file beforehand)\n",
    "output_file = 'ray-coords.csv'\n",
    "\n",
    "with open(output_file, 'w', newline='') as csvfile:\n",
    "    writer = csv.writer(csvfile)\n",
    "    writer.writerow(['lat', 'lon', 'alt'])  # Write header row\n",
    "    writer.writerows(zip(lat_r, lon_r, alt_r)) # Enter the list\n",
    "\n",
    "print('CSV file created')"
   ]
  },
  {
   "cell_type": "code",
   "execution_count": 181,
   "id": "1e0f180f-d319-41dc-a268-8376021b32bf",
   "metadata": {},
   "outputs": [
    {
     "name": "stderr",
     "output_type": "stream",
     "text": [
      "Generating interior points from SAMI outputs:  99%|█████████▊| 1454080/1474560 [00:31<00:00, 46349.89it/s]\n"
     ]
    },
    {
     "name": "stdout",
     "output_type": "stream",
     "text": [
      "Made custom mesh file\n",
      "Found ESMF weight file, making it again...\n",
      "calling ESMF...\n",
      "Output:  Starting weight generation with these inputs: \n",
      "   Source File: /home/pxv220016/scratch/2013-03-17_SAMI/src_ugrid.nc\n",
      "   Destination File: /home/pxv220016/scratch/2013-03-17_SAMI/dst_ugrid.nc\n",
      "   Weight File: /home/pxv220016/scratch/2013-03-17_SAMI/esmf_weightfile.nc\n",
      "   Source File is in UGRID format\n",
      "   Source Grid is a global grid\n",
      "   Source Grid is an unstructured grid\n",
      "   Use the corner coordinates of the source grid to do the regrid\n",
      "   Destination File is in UGRID format\n",
      "   Destination Grid is a global grid\n",
      "   Destination Grid is an unstructured grid\n",
      "   Use the corner coordinates of the destination grid to do the regrid\n",
      "   Regrid Method: bilinear\n",
      "   Pole option: ALL\n",
      "   Ignore unmapped destination points\n",
      "   Line Type: greatcircle\n",
      "   Norm Type: dstarea\n",
      "   Extrap. Method: none\n",
      "\n",
      " Completed weight generation successfully.\n",
      "\n",
      "\n",
      "\n",
      "\n",
      "Variable \"time\" not present in input file.\n",
      "Output file will not contain satellite time.\n",
      "\n"
     ]
    },
    {
     "name": "stderr",
     "output_type": "stream",
     "text": [
      "Writing edens \t vars:(0/1)               : 100%|██████████| 596/596 [03:55<00:00,  2.53it/s]\n",
      "\n",
      "real\t6m11.322s\n",
      "user\t4m20.882s\n",
      "sys\t1m47.550s\n"
     ]
    },
    {
     "data": {
      "text/plain": [
       "0"
      ]
     },
     "execution_count": 181,
     "metadata": {},
     "output_type": "execute_result"
    }
   ],
   "source": [
    "os.system(\"time python /home/pxv220016/prasoon/data/SAMI3-GITM-python/SAMI3_ESMF_Regrid.py /home/pxv220016/scratch/2013-03-17_SAMI '20130316' --cols edens --out_dir /home/pxv220016/prasoon/data/sat_interp_repo/sat-interp-tid-analysis/updated_sat_data/ray_tracing/20130316 --custom_input_file /home/pxv220016/prasoon/data/sat_interp_repo/sat-interp-tid-analysis/ray-coords.csv --ESMF_DIR /home/pxv220016/prasoon/data/SAMI3-GITM-python/esmf-8.4.0/apps/appsO/Linux.gfortran.64.openmpi.default/ --remake_files\")"
   ]
  },
  {
   "cell_type": "markdown",
   "id": "22155099-a850-482a-a05f-a0bec73a714e",
   "metadata": {},
   "source": [
    "# Interpolation"
   ]
  },
  {
   "cell_type": "code",
   "execution_count": 184,
   "id": "97b6c752-a0a9-42c3-adfb-3034ebb5de9b",
   "metadata": {},
   "outputs": [
    {
     "name": "stdout",
     "output_type": "stream",
     "text": [
      "<xarray.Dataset> Size: 652MB\n",
      "Dimensions:    (sat_step: 136000, sami_time: 596)\n",
      "Coordinates:\n",
      "  * sami_time  (sami_time) datetime64[ns] 5kB 2013-03-16 ... 2013-03-18T01:35:00\n",
      "Dimensions without coordinates: sat_step\n",
      "Data variables:\n",
      "    lat        (sat_step) float64 1MB ...\n",
      "    lon        (sat_step) float64 1MB ...\n",
      "    alt        (sat_step) float64 1MB ...\n",
      "    edens      (sami_time, sat_step) float64 648MB ...\n"
     ]
    }
   ],
   "source": [
    "path = '/home/pxv220016/prasoon/data/sat_interp_repo/sat-interp-tid-analysis/updated_sat_data/ray_tracing/20130316/edens_SAMI-REGRID.nc'\n",
    "#sami = pd.read_csv(path, delimiter='\\t')\n",
    "\n",
    "'''\n",
    "with open(path, 'rb') as file:\n",
    "    sami = file.read()\n",
    "    print(type(sami))\n",
    "    for lines in sami:\n",
    "        pass\n",
    "\n",
    "print('done')\n",
    "'''\n",
    "sami = xr.open_dataset(path)\n",
    "print(sami)"
   ]
  },
  {
   "cell_type": "code",
   "execution_count": 191,
   "id": "9d6206e7-692f-4faa-b46b-4dea03ba7208",
   "metadata": {},
   "outputs": [
    {
     "name": "stdout",
     "output_type": "stream",
     "text": [
      "2013-03-17T00:08:10.000000000\n",
      "[57.66937373 57.66879987 57.66822202 57.66764016 57.66705426 57.66646429\n",
      " 57.66587022 57.66527203 57.66466968 57.66406315] [-179.46529394 -179.46683649 -179.46838965 -179.4699535  -179.47152811\n",
      " -179.47311354 -179.47470988 -179.4763172  -179.47793558 -179.47956508] [454.22692746 454.31814785 454.41000331 454.50249828 454.59563723\n",
      " 454.68942465 454.78386508 454.87896307 454.97472322 455.07115016]\n"
     ]
    },
    {
     "name": "stderr",
     "output_type": "stream",
     "text": [
      "  0%|                                                | 0/136000 [00:00<?, ?it/s]"
     ]
    },
    {
     "data": {
      "image/png": "[encoded data removed]",
      "text/plain": [
       "<Figure size 640x480 with 1 Axes>"
      ]
     },
     "metadata": {},
     "output_type": "display_data"
    },
    {
     "name": "stderr",
     "output_type": "stream",
     "text": [
      "  0%|                                                | 0/136000 [00:00<?, ?it/s]\n"
     ]
    },
    {
     "data": {
      "image/png": "[encoded data removed]",
      "text/plain": [
       "<Figure size 640x480 with 1 Axes>"
      ]
     },
     "metadata": {},
     "output_type": "display_data"
    }
   ],
   "source": [
    "print(time_r[0])\n",
    "#print(sami.sami_time.dt.time.values)\n",
    "\n",
    "#print(sami.alt.values)\n",
    "#print(sami.sami_time.dt.day.values)\n",
    "print(sami.lat[:10].values, sami.lon[:10].values, sami.alt[:10].values)\n",
    "\n",
    "eden = []\n",
    "for i in tqdm(range(len(time_r))):\n",
    "    e = sami.edens.sel(sami_time=time_r[i], method='nearest')\n",
    "    plt.plot(e)\n",
    "    plt.show()\n",
    "\n",
    "    plt.plot(sami.lat[:1000].values)\n",
    "    break\n",
    "    \n",
    "    eden.append(e[i].values)\n",
    "    \n",
    "    if i < len(time_r) -1 and index[i] != index[i+1]:\n",
    "        tec = sum(eden[:-1])\n",
    "\n",
    "\n",
    "        num = np.geomspace(1e-3, sep_r[i], len(eden))\n",
    "        \n",
    "        stec = 0\n",
    "        for j in range(len(num)-1):\n",
    "            s = num[j+1] - num[j]\n",
    "            stec += s*(eden[j] + eden[j+1])*0.5*1e6\n",
    "\n",
    "                \n",
    "        stec = stec/1e16\n",
    "        \n",
    "        #stec = tec*sep_r[i]/((N-1)*1e16)*1e6\n",
    "        print(stec)\n",
    "        data_n[index[i]][col+5] = stec\n",
    "        eden = []\n",
    "\n",
    "\n",
    "    \n",
    "#print(e.values)\n"
   ]
  },
  {
   "cell_type": "code",
   "execution_count": 176,
   "id": "e389cdd5-f66e-48b8-b9dd-614b44d8f9eb",
   "metadata": {},
   "outputs": [
    {
     "data": {
      "text/plain": [
       "Text(0.5, 0, 'Time')"
      ]
     },
     "execution_count": 176,
     "metadata": {},
     "output_type": "execute_result"
    },
    {
     "data": {
      "image/png": "[encoded data removed]",
      "text/plain": [
       "<Figure size 1200x800 with 1 Axes>"
      ]
     },
     "metadata": {},
     "output_type": "display_data"
    }
   ],
   "source": [
    "time_stec = []\n",
    "stec_sami = []\n",
    "stec_esa = []\n",
    "\n",
    "for i in range(50, 186):\n",
    "    time_stec.append(data_n[i][2])\n",
    "    stec_sami.append(data_n[i][col+5])\n",
    "    stec_esa.append(data_n[i][col+3])\n",
    "\n",
    "#print(time_stec)\n",
    "#print(stec_sami)\n",
    "\n",
    "plt.figure(figsize=(12,8))\n",
    "plt.plot(time_stec, stec_sami, label='SAMI LOSTEC')\n",
    "plt.plot(time_stec, stec_esa, label='ESA STEC')\n",
    "plt.legend()\n",
    "plt.ylabel('STEC (TECU)')\n",
    "plt.xlabel('Time')"
   ]
  },
  {
   "cell_type": "code",
   "execution_count": 110,
   "id": "139e8fb2-cf4e-4021-b25c-a8e3cfbe1c0a",
   "metadata": {},
   "outputs": [
    {
     "name": "stdout",
     "output_type": "stream",
     "text": [
      "10000\n",
      "1501242683919327.5\n",
      "1.5013885507410396e-05\n"
     ]
    }
   ],
   "source": [
    "sep = 23205596.82373721\n",
    "l = len(e)\n",
    "print(l)\n",
    "\n",
    "print(sum(e.values)*sep)\n",
    "\n",
    "tec = sum(e.values[:-1])*sep/((l-1)*1e16)\n",
    "print(tec)"
   ]
  }
 ],
 "metadata": {
  "kernelspec": {
   "display_name": "Python [conda env:.conda-SAMI3-GITM]",
   "language": "python",
   "name": "conda-env-.conda-SAMI3-GITM-py"
  },
  "language_info": {
   "codemirror_mode": {
    "name": "ipython",
    "version": 3
   },
   "file_extension": ".py",
   "mimetype": "text/x-python",
   "name": "python",
   "nbconvert_exporter": "python",
   "pygments_lexer": "ipython3",
   "version": "3.10.11"
  }
 },
 "nbformat": 4,
 "nbformat_minor": 5
}
