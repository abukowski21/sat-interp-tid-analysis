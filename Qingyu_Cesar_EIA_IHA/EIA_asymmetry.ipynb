{
 "cells": [
  {
   "cell_type": "markdown",
   "id": "fe0014e1-8651-4a4a-af5a-e21840c36a37",
   "metadata": {},
   "source": [
    "# Intro\n",
    "- This is the first jupyter notebook for the EIA interhemispheric assymmetry (IHA) seen during different solar cycles\n",
    "- TEC comparison during the March equinox is carried out for different years\n",
    "    - Peaks of the north and south EIA are traced and compared"
   ]
  },
  {
   "cell_type": "markdown",
   "id": "46d85aaa-f1ca-4a82-9335-de5928be4035",
   "metadata": {},
   "source": [
    "# Reading New TEC Data and Producing Output Files"
   ]
  },
  {
   "cell_type": "code",
   "execution_count": 1,
   "id": "c8384e72-2077-4192-91a1-c87f8ba08c83",
   "metadata": {},
   "outputs": [
    {
     "name": "stderr",
     "output_type": "stream",
     "text": [
      "/work/10028/prasoonv/ls6/miniconda3/envs/jlab/lib/python3.8/site-packages/tqdm/auto.py:21: TqdmWarning: IProgress not found. Please update jupyter and ipywidgets. See https://ipywidgets.readthedocs.io/en/stable/user_install.html\n",
      "  from .autonotebook import tqdm as notebook_tqdm\n"
     ]
    }
   ],
   "source": [
    "import pandas as pd\n",
    "import numpy as np\n",
    "import matplotlib.pyplot as plt\n",
    "import xarray as xr\n",
    "\n",
    "import cartopy.crs as ccrs\n",
    "from tqdm import tqdm\n",
    "from apexpy import Apex\n",
    "import os\n",
    "import datetime as dt\n",
    "import importlib as il\n",
    "\n",
    "from p_tqdm import p_map\n",
    "from multiprocessing import Pool\n",
    "import itertools"
   ]
  },
  {
   "cell_type": "code",
   "execution_count": 2,
   "id": "f32aeec1",
   "metadata": {},
   "outputs": [],
   "source": [
    "# Choose the system: i -> 0:tacc, 1:mac, 2:ganymede\n",
    "i = 0\n",
    "\n",
    "if i == 0:\n",
    "    work = '/work/10028/prasoonv/ls6/repo/sat-interp-tid-analysis/'\n",
    "    scratch = '/scratch/10028/prasoonv/' \n",
    "elif i == 1:\n",
    "    work = '/Users/prasoonv/repo/sat-interp-tid-analysis/Qingyu_Cesar_EIA_IHA/'\n",
    "    scratch = '/Users/prasoonv/repo/sat-interp-tid-analysis/scratch/'\n",
    "elif i == 2:\n",
    "    work = '/home/pxv220016/prasoon/data/sat_interp_repo/sat-interp-tid-analysis/'\n",
    "    scratch = '/home/pxv220016/scratch/'\n",
    "\n",
    "import sys\n",
    "sys.path.append('')\n",
    "sys.path.append(f'{work}prasoon_utility_programs')\n",
    "sys.path.append(f'{work}Qingyu_Cesar_EIA_IHA')\n",
    "import functions"
   ]
  },
  {
   "cell_type": "code",
   "execution_count": 2,
   "id": "94eac4ba-da65-413f-8644-f72551ec84f6",
   "metadata": {},
   "outputs": [
    {
     "name": "stderr",
     "output_type": "stream",
     "text": [
      "  0%|                                                     | 0/4 [00:00<?, ?it/s]"
     ]
    },
    {
     "name": "stdout",
     "output_type": "stream",
     "text": [
      "2021\n",
      "43\n"
     ]
    },
    {
     "data": {
      "application/vnd.jupyter.widget-view+json": {
       "model_id": "a70b5772d2454bc4bf2424aef6d6dc05",
       "version_major": 2,
       "version_minor": 0
      },
      "text/plain": [
       "  0%|          | 0/43 [00:00<?, ?it/s]"
      ]
     },
     "metadata": {},
     "output_type": "display_data"
    },
    {
     "name": "stdout",
     "output_type": "stream",
     "text": [
      "1\n",
      "2\n",
      "0:17:02.089608\n"
     ]
    },
    {
     "name": "stderr",
     "output_type": "stream",
     "text": [
      " 25%|██████████▎                              | 1/4 [21:30<1:04:32, 1290.90s/it]"
     ]
    },
    {
     "name": "stdout",
     "output_type": "stream",
     "text": [
      "2022\n",
      "43\n"
     ]
    },
    {
     "data": {
      "application/vnd.jupyter.widget-view+json": {
       "model_id": "f3d1a1e6d92e45ad9238ad316f6f1258",
       "version_major": 2,
       "version_minor": 0
      },
      "text/plain": [
       "  0%|          | 0/43 [00:00<?, ?it/s]"
      ]
     },
     "metadata": {},
     "output_type": "display_data"
    },
    {
     "name": "stdout",
     "output_type": "stream",
     "text": [
      "1\n",
      "2\n",
      "0:45:02.297632\n"
     ]
    },
    {
     "name": "stderr",
     "output_type": "stream",
     "text": [
      " 50%|███████████████████▌                   | 2/4 [1:10:54<1:15:49, 2274.70s/it]"
     ]
    },
    {
     "name": "stdout",
     "output_type": "stream",
     "text": [
      "2023\n",
      "43\n"
     ]
    },
    {
     "name": "stderr",
     "output_type": "stream",
     "text": [
      "IOStream.flush timed out\n"
     ]
    },
    {
     "data": {
      "application/vnd.jupyter.widget-view+json": {
       "model_id": "d1073ed260aa4cee8505549f9426a330",
       "version_major": 2,
       "version_minor": 0
      },
      "text/plain": [
       "  0%|          | 0/43 [00:00<?, ?it/s]"
      ]
     },
     "metadata": {},
     "output_type": "display_data"
    },
    {
     "name": "stdout",
     "output_type": "stream",
     "text": [
      "1\n",
      "2\n",
      "0:16:45.958314\n"
     ]
    },
    {
     "name": "stderr",
     "output_type": "stream",
     "text": [
      " 75%|██████████████████████████████▊          | 3/4 [1:32:29<30:27, 1827.55s/it]"
     ]
    },
    {
     "name": "stdout",
     "output_type": "stream",
     "text": [
      "2024\n",
      "43\n"
     ]
    },
    {
     "name": "stderr",
     "output_type": "stream",
     "text": [
      "IOStream.flush timed out\n"
     ]
    },
    {
     "data": {
      "application/vnd.jupyter.widget-view+json": {
       "model_id": "024856def9774f8783c8a3252c6af6e1",
       "version_major": 2,
       "version_minor": 0
      },
      "text/plain": [
       "  0%|          | 0/43 [00:00<?, ?it/s]"
      ]
     },
     "metadata": {},
     "output_type": "display_data"
    },
    {
     "name": "stdout",
     "output_type": "stream",
     "text": [
      "1\n",
      "2\n",
      "0:13:38.309408\n"
     ]
    },
    {
     "name": "stderr",
     "output_type": "stream",
     "text": [
      "100%|█████████████████████████████████████████| 4/4 [1:50:24<00:00, 1656.20s/it]\n"
     ]
    }
   ],
   "source": [
    "functions = il.reload(functions)\n",
    "month = 'june' #'march'\n",
    "\n",
    "if month == 'sept' or month == 'march':\n",
    "    phase = 'equinox'\n",
    "else:\n",
    "    phase = 'solstice'\n",
    "\n",
    "if month == 'sept':\n",
    "    years_tot = list(range(2020, 2024))\n",
    "else:\n",
    "    years_tot = list(range(2020, 2025))\n",
    "    \n",
    "for year in tqdm(years_tot):\n",
    "    \n",
    "    print(year)\n",
    "\n",
    "    \n",
    "    # Reading Madrigal Cedar data for +- 21 days around March equinox of 2010-2024\n",
    "    # Files in below scratch folder are obtained by using multiple file download \n",
    "    # command in ASCII format and then doing `gunzip file.gz`  \n",
    "    path = f'{scratch}Qingyu_Cesar_EIA/' + month + '_data/' + str(year) + '_' + month + '_' + phase + '/'\n",
    "    files = os.listdir(path)\n",
    "    files = [path + i for i in files]\n",
    "\n",
    "    for f in files:\n",
    "        if f[-4:] != '.txt':\n",
    "            files.remove(f)\n",
    "            \n",
    "    print(len(files))\n",
    "    \n",
    "    tec_g = []\n",
    "    columns = ['GDLAT', 'GLON', 'TEC', 'DT']\n",
    "    grnd_tec = pd.DataFrame(columns=columns)\n",
    "\n",
    "    def process_file(f):\n",
    "        # Read function passed continuously during multiple processing to quicken the process\n",
    "        df = pd.read_csv(f, sep=r'\\s+')\n",
    "        d = [dt.datetime(y, m, d, h, mi, s) for y, m, d, h, mi, s in zip(df.YEAR, df.MONTH, df.DAY, df.HOUR, df.MIN, df.SEC)]\n",
    "        df['DT'] = d\n",
    "        # Dropping unnecassary columns from the Dataframe\n",
    "        df = df.drop(['RECNO', 'KINDAT', 'KINST', 'UT1_UNIX', 'UT2_UNIX', 'YEAR', 'MONTH', 'DAY', 'HOUR', 'MIN', 'SEC', 'DTEC'], axis=1)\n",
    "        if 'GDALT' in df.columns:\n",
    "            df = df.drop(['GDALT'], axis=1)\n",
    "        df = df[(df.GDLAT > -60) & (df.GDLAT < 60) & (df.GLON > -85) & (df.GLON < -45)].reset_index(drop=True)\n",
    "        return df    \n",
    "    # Speeding the process by using parallel processing\n",
    "    tec_g = p_map(process_file, files)  # Parallel processing with progress bar\n",
    "    print('1')\n",
    "    grnd_tec = pd.concat(tec_g, axis=0).reset_index(drop=True)\n",
    "    grnd_tec = grnd_tec.sort_values(by=['DT', 'GDLAT'], ascending=[True, True])\n",
    "\n",
    "\n",
    "    # Reading the Kp index values for all the days and filtering undesired points where Kp > 3\n",
    "    file = f'{work}Qingyu_Cesar_EIA_IHA/kp3_index_values/kp_{str(year)}_{month}.txt'\n",
    "    kp = pd.read_csv(file,sep=r'\\s+')\n",
    "    date_kp = [functions.day_to_date(i, year) for i in kp.DOY]\n",
    "    m, d = zip(*date_kp)\n",
    "    kp['date'] = [dt.datetime(year, j, i, k, 0, 0) for i,j,k in zip(d,m,kp.Hour)]\n",
    "    kp['kp'] = [i/10 for i in kp.Kp]\n",
    "    kp = kp.drop(['Year', 'DOY', 'Hour','Kp'], axis = 1)\n",
    "    grnd_tec0 = functions.kp_index_filtering(grnd_tec, kp)\n",
    "    print('2')\n",
    "\n",
    "    # Calculation of magnetic coordinates by using Apex library and Parallel prcoessing \n",
    "    t_start = dt.datetime.now() # just a timer\n",
    "    with Pool(24) as pool:\n",
    "        p = pool.starmap(functions.magnetic_coords_parallel, zip(grnd_tec0.DT, grnd_tec0.GDLAT, grnd_tec0.GLON, grnd_tec0.TEC))\n",
    "    pool.close()\n",
    "    pool.join()\n",
    "    # Separating the data from output list \n",
    "    sat_date, sat_glat, sat_glon, sat_tec, sat_mlat, sat_mlon, sat_mlt = zip(*p)\n",
    "    t_total = dt.datetime.now() - t_start\n",
    "    print(t_total)\n",
    "    \n",
    "\n",
    "    # Reordering the outputs and applying further conditions on magnetic coordinates\n",
    "    grnd_temp = pd.DataFrame({'DT': sat_date, 'GDLAT': sat_glat, 'GLON': sat_glon, 'TEC': sat_tec, 'MLAT': sat_mlat, 'MLON': sat_mlon, 'MLT': sat_mlt})\n",
    "    grnd_tec1 = grnd_temp.sort_values(by=['DT', 'GDLAT'], ascending=[True, True]).reset_index()\n",
    "    grnd_tec1 = grnd_tec1[(grnd_tec1.MLON <= 5) & (grnd_tec1.MLON >= -5)].reset_index(drop=True)\n",
    "    grnd_tec1 = grnd_tec1[(grnd_tec1.MLAT <= 40) & (grnd_tec1.MLAT >= -40)].reset_index(drop=True)\n",
    "    grnd_tec2 = grnd_tec1.drop(['GDLAT', 'GLON','MLON'], axis = 1)\n",
    "\n",
    "    \n",
    "    # Writing the output into csv files for easy post processing\n",
    "    grnd_tec2.to_csv(f'{work}Qingyu_Cesar_EIA_IHA/outputs/{month}/{str(year)}_{month}_{phase}.csv', index=False)\n"
   ]
  },
  {
   "cell_type": "code",
   "execution_count": null,
   "id": "cdbc06e2",
   "metadata": {},
   "outputs": [],
   "source": []
  },
  {
   "cell_type": "code",
   "execution_count": null,
   "id": "1ab88fd9",
   "metadata": {},
   "outputs": [],
   "source": []
  },
  {
   "cell_type": "markdown",
   "id": "75e3e2ab",
   "metadata": {},
   "source": [
    "# F10.7 Comparison for March 2023 and 2024"
   ]
  },
  {
   "cell_type": "code",
   "execution_count": null,
   "id": "658a5ecf",
   "metadata": {},
   "outputs": [],
   "source": [
    "import pandas as pd\n",
    "import numpy as np\n",
    "import matplotlib.pyplot as plt\n",
    "import xarray as xr\n",
    "\n",
    "import cartopy.crs as ccrs\n",
    "from tqdm import tqdm\n",
    "from apexpy import Apex\n",
    "import datetime as dt\n"
   ]
  },
  {
   "cell_type": "code",
   "execution_count": null,
   "id": "e2623e69",
   "metadata": {},
   "outputs": [],
   "source": [
    "# Choose the system: i -> 0:tacc, 1:mac, 2:ganymede\n",
    "i = 0\n",
    "\n",
    "if i == 0:\n",
    "    work = '/work/10028/prasoonv/ls6/repo/sat-interp-tid-analysis/'\n",
    "    scratch = '/scratch/10028/prasoonv/' \n",
    "elif i == 1:\n",
    "    work = '/Users/prasoonv/repo/sat-interp-tid-analysis/Qingyu_Cesar_EIA_IHA/'\n",
    "    scratch = '/Users/prasoonv/repo/sat-interp-tid-analysis/scratch/'\n",
    "elif i == 2:\n",
    "    work = '/home/pxv220016/prasoon/data/sat_interp_repo/sat-interp-tid-analysis/'\n",
    "    scratch = '/home/pxv220017/scratch/'\n",
    "\n",
    "import sys\n",
    "sys.path.append('')\n",
    "sys.path.append(f'{work}prasoon_utility_programs')\n",
    "sys.path.append(f'{work}Qingyu_Cesar_EIA_IHA')\n",
    "import functions"
   ]
  },
  {
   "cell_type": "code",
   "execution_count": null,
   "id": "be9c429d",
   "metadata": {},
   "outputs": [
    {
     "name": "stdout",
     "output_type": "stream",
     "text": [
      "2023 year -> Mean = 150.87441860465202 and Median = 148.1\n",
      "2024 year -> Mean = 146.01395348837212 and Median = 137.6\n",
      "\n",
      "Both mean and median of F10.7 index during march equinox for 2023 is higher than 2024.\n"
     ]
    }
   ],
   "source": [
    "functions = il.reload(functions)\n",
    "f107_years = [2023, 2024]\n",
    "month = 'march'\n",
    "\n",
    "path = f'{work}Qingyu_Cesar_EIA_IHA/outputs/{month}/f107_{month}_'\n",
    "\n",
    "columns = ['Year', 'DOY', 'Hour', 'f10_7']\n",
    "f107 = pd.DataFrame(columns = columns)\n",
    "\n",
    "for y in f107_years:\n",
    "    file = f'{path}{str(y)}.txt'\n",
    "    df_f107 = pd.read_csv(file, sep=r'\\s+')\n",
    "    print(y, 'year -> Mean =', sum(df_f107.f10_7)/len(df_f107.f10_7), 'and Median =', np.median(df_f107.f10_7))\n",
    "print('\\nBoth mean and median of F10.7 index during ' + month + ' equinox for 2023 is higher than 2024.')"
   ]
  },
  {
   "cell_type": "code",
   "execution_count": null,
   "id": "41e5033f",
   "metadata": {},
   "outputs": [],
   "source": []
  },
  {
   "cell_type": "code",
   "execution_count": null,
   "id": "bd124c33",
   "metadata": {},
   "outputs": [],
   "source": []
  },
  {
   "cell_type": "markdown",
   "id": "78022eec-8caf-452b-abb2-1364ae2c784c",
   "metadata": {},
   "source": [
    "# Reading Data Directly From Saved Output Files"
   ]
  },
  {
   "cell_type": "code",
   "execution_count": 4,
   "id": "12097a05-1c5a-4cc3-82da-310975d34f54",
   "metadata": {},
   "outputs": [],
   "source": [
    "import pandas as pd\n",
    "import numpy as np\n",
    "import matplotlib.pyplot as plt\n",
    "import xarray as xr\n",
    "\n",
    "import cartopy.crs as ccrs\n",
    "from tqdm import tqdm\n",
    "from apexpy import Apex\n",
    "import datetime as dt\n",
    "from scipy.signal import savgol_filter\n"
   ]
  },
  {
   "cell_type": "code",
   "execution_count": 5,
   "id": "e3e6257d",
   "metadata": {},
   "outputs": [],
   "source": [
    "# Choose the system: i -> 0:tacc, 1:mac, 2:ganymede\n",
    "i = 0\n",
    "\n",
    "if i == 0:\n",
    "    work = '/work/10028/prasoonv/ls6/repo/sat-interp-tid-analysis/'\n",
    "    scratch = '/scratch/10028/prasoonv/' \n",
    "elif i == 1:\n",
    "    work = '/Users/prasoonv/repo/sat-interp-tid-analysis/Qingyu_Cesar_EIA_IHA/'\n",
    "    scratch = '/Users/prasoonv/repo/sat-interp-tid-analysis/scratch/'\n",
    "elif i == 2:\n",
    "    work = '/home/pxv220016/prasoon/data/sat_interp_repo/sat-interp-tid-analysis/'\n",
    "    scratch = '/home/pxv220016/scratch/'\n",
    "\n",
    "import sys\n",
    "sys.path.append('')\n",
    "sys.path.append(f'{work}prasoon_utility_programs')\n",
    "sys.path.append(f'{work}Qingyu_Cesar_EIA_IHA')\n",
    "import functions"
   ]
  },
  {
   "cell_type": "code",
   "execution_count": 6,
   "id": "7892e019-6314-4269-9075-9af89d111936",
   "metadata": {},
   "outputs": [
    {
     "name": "stderr",
     "output_type": "stream",
     "text": [
      " 80%|████████  | 20/25 [02:22<01:03, 12.77s/it]/tmp/ipykernel_1638304/4146714374.py:81: RuntimeWarning: More than 20 figures have been opened. Figures created through the pyplot interface (`matplotlib.pyplot.figure`) are retained until explicitly closed and may consume too much memory. (To control this warning, see the rcParam `figure.max_open_warning`). Consider using `matplotlib.pyplot.close()`.\n",
      "  fig = plt.figure(figsize=(12,4))\n",
      "100%|██████████| 25/25 [03:34<00:00,  8.60s/it]\n"
     ]
    }
   ],
   "source": [
    "month = 'march'\n",
    "\n",
    "if month == 'sept' or month == 'march':\n",
    "    phase = 'equinox'\n",
    "else:\n",
    "    phase = 'solstice'\n",
    "\n",
    "if month == 'sept':\n",
    "    years = list(range(2000, 2024))\n",
    "else:\n",
    "    years = list(range(2000, 2025))\n",
    "\n",
    "\n",
    "for year in tqdm(years):\n",
    "    # Reading the data from output csv\n",
    "    grnd_tec2 = pd.read_csv(f'{scratch}Qingyu_Cesar_EIA/outputs/{month}/{str(year)}_{month}_{phase}.csv')\n",
    "\n",
    "\n",
    "    # Define the bin edges for MLAT and MLT\n",
    "    bins_mlat = pd.cut(grnd_tec2['MLAT'], bins=pd.interval_range(start=-40, end=40, freq=1))\n",
    "    bins_mlt = pd.cut(grnd_tec2['MLT'], bins=pd.interval_range(start=0, end=24, freq=0.25))\n",
    "    \n",
    "    # Create a new DataFrame with the bins\n",
    "    grnd_tec2['MLAT_b'] = bins_mlat\n",
    "    grnd_tec2['MLT_b'] = bins_mlt\n",
    "    \n",
    "    # Group by the bins (MLAT_b (primary) and MLT_b (secondary)) and calculate the average of TEC\n",
    "    result = grnd_tec2.groupby(['MLT_b', 'MLAT_b'])['TEC'].mean().reset_index()\n",
    "    # Converting the midpoint values of bins to float and assigning average TEC at those points\n",
    "    result['MLAT_b'] = result['MLAT_b'].apply(lambda x: x.mid)\n",
    "    result['MLT_b'] = result['MLT_b'].apply(lambda x: x.mid)\n",
    "    result['MLAT_b'] = result['MLAT_b'].astype(float)\n",
    "    result['MLT_b'] = result['MLT_b'].astype(float)\n",
    "\n",
    "\n",
    "    result = result[result.MLT_b >= 5].reset_index(drop=True)\n",
    "    \n",
    "    \n",
    "    filtered = []\n",
    "    for t in result['MLT_b'].unique():\n",
    "        result_f = result[result['MLT_b'] == t].reset_index(drop=True)\n",
    "        fit = savgol_filter(np.array(result_f.TEC), 10, 2)\n",
    "        filtered.extend(fit)\n",
    "    result['TEC'] = filtered\n",
    "    result = result.groupby(['MLAT_b', 'MLT_b']).sum().reset_index()\n",
    "    \n",
    "    \n",
    "    # Identifying NH and SH peaks\n",
    "    result_t = result[result.MLT_b >= 13].reset_index(drop=True)\n",
    "    result_n = result_t[result_t.MLAT_b > 0].reset_index(drop=True)\n",
    "    result_s = result_t[result_t.MLAT_b < 0].reset_index(drop=True)\n",
    "    result_n = result_n.loc[result_n.groupby('MLT_b')['TEC'].idxmax()].reset_index(drop=True)\n",
    "    result_s = result_s.loc[result_s.groupby('MLT_b')['TEC'].idxmax()].reset_index(drop=True)\n",
    "    # Dropping the cases where the SH peak is not prominent and maxima appears to come at equator\n",
    "    result_n.loc[result_n['MLAT_b'] < 5, 'TEC'] = np.nan\n",
    "    result_s.loc[result_s['MLAT_b'] > -5, 'TEC'] = np.nan\n",
    "    #print(result_s)\n",
    "    \n",
    "    i = 100*2*(result_n.TEC - result_s.TEC)/(result_n.TEC + result_s.TEC)\n",
    "    result_ind = pd.DataFrame({'mlat_n': result_n.MLAT_b, 'tec_n': result_n.TEC, 'mlat_s': result_s.MLAT_b, 'tec_s': result_s.TEC, 'mlt': result_n.MLT_b, 'asy': i})\n",
    "    result_ind.to_csv(f'{work}Qingyu_Cesar_EIA_IHA/outputs/{month}/asy_{str(year)}_{month}.csv', index=False)\n",
    "\n",
    "    X, Y = np.meshgrid(result.MLT_b.unique(), result.MLAT_b.unique())\n",
    "    Z = result.TEC.values.reshape(X.shape)\n",
    "    if np.max(Z) <= 40:\n",
    "        contour_levels = list(range(0, 41, 5))\n",
    "    elif np.max(Z) <= 100:\n",
    "        contour_levels = list(range(0, 101, 5))\n",
    "    elif np.max(Z) <= 120:\n",
    "        contour_levels = list(range(0, 121, 5))\n",
    "    elif np.max(Z) <= 150:\n",
    "        contour_levels = list(range(0, 151, 5))\n",
    "\n",
    "    # Creating new dataframe to remove rows where TEC= NaN\n",
    "    result_n = pd.DataFrame({'mlt': result_ind.mlt, 'mlat_n': result_ind.mlat_n, 'tec_n': result_ind.tec_n})\n",
    "    result_n = result_n.dropna(subset='tec_n')\n",
    "    result_s = pd.DataFrame({'mlt': result_ind.mlt, 'mlat_s': result_ind.mlat_s, 'tec_s': result_ind.tec_s})\n",
    "    result_s = result_s.dropna(subset='tec_s')\n",
    "\n",
    "    \n",
    "    fig = plt.figure(figsize=(12,4))\n",
    "    specs = fig.add_gridspec(1, 2, width_ratios=[1,0.1])\n",
    "    ax = []\n",
    "    ax.append(fig.add_subplot(specs[0, 0]))\n",
    "    c = ax[0].contourf(X, Y, Z, levels=contour_levels, cmap = 'jet')\n",
    "    ax[0].scatter(result_n.mlt, result_n.mlat_n, c='b', s=30)\n",
    "    ax[0].scatter(result_s.mlt, result_s.mlat_s, c='b', s=30)\n",
    "    ax[0].set_title(f'Tracing EIA Peaks - {str(year)} {month} {phase} (Bins -> MLAT - 1 deg, MLT = 0.25 hour)')\n",
    "    ax[0].set_ylabel('MLAT')\n",
    "    ax[0].set_xlabel('MLT')\n",
    "    ax[0].grid(True)\n",
    "\n",
    "    # Set ylim conditionally\n",
    "    if np.max(Z) <= 40:\n",
    "        ax[0].set_ylim(top=40)\n",
    "    \n",
    "    cbar_ax = fig.add_subplot(specs[0,1])\n",
    "    cbar = fig.colorbar(c, cax=cbar_ax, label='VTEC (TECUnits)', extend='both')\n",
    "    fig.savefig(f'{work}Qingyu_Cesar_EIA_IHA/outputs/eia_peaks/{month}/eia_peaks_{month}_{str(year)}.jpg')\n",
    "    fig.show()\n",
    "\n",
    "\n"
   ]
  },
  {
   "cell_type": "code",
   "execution_count": null,
   "id": "5edd90d6-7212-4c6e-ab89-2d605ceaf25d",
   "metadata": {},
   "outputs": [],
   "source": []
  },
  {
   "cell_type": "code",
   "execution_count": null,
   "id": "dfeb74cc-0f39-4da0-a91a-b457e4cdd741",
   "metadata": {},
   "outputs": [],
   "source": []
  },
  {
   "cell_type": "code",
   "execution_count": null,
   "id": "7e1485f2-5359-4781-aad7-270f4dd21889",
   "metadata": {},
   "outputs": [],
   "source": []
  },
  {
   "cell_type": "markdown",
   "id": "b358ba86-3bf8-4f3c-8c2b-8bddb082429a",
   "metadata": {},
   "source": [
    "# Comparing Asymmetry Index"
   ]
  },
  {
   "cell_type": "code",
   "execution_count": 7,
   "id": "c59b6652-de6b-4c23-b887-9c5f83af4be6",
   "metadata": {},
   "outputs": [],
   "source": [
    "import pandas as pd\n",
    "import numpy as np\n",
    "import matplotlib.pyplot as plt\n",
    "import xarray as xr\n",
    "\n",
    "import cartopy.crs as ccrs\n",
    "from tqdm import tqdm\n",
    "from apexpy import Apex\n",
    "import datetime as dt\n"
   ]
  },
  {
   "cell_type": "code",
   "execution_count": 8,
   "id": "a3001643",
   "metadata": {},
   "outputs": [],
   "source": [
    "# Choose the system: i -> 0:tacc, 1:mac, 2:ganymede\n",
    "i = 0\n",
    "\n",
    "if i == 0:\n",
    "    work = '/work/10028/prasoonv/ls6/repo/sat-interp-tid-analysis/'\n",
    "    scratch = '/scratch/10028/prasoonv/' \n",
    "elif i == 1:\n",
    "    work = '/Users/prasoonv/repo/sat-interp-tid-analysis/Qingyu_Cesar_EIA_IHA/'\n",
    "    scratch = '/Users/prasoonv/repo/sat-interp-tid-analysis/scratch/'\n",
    "elif i == 2:\n",
    "    work = '/home/pxv220016/prasoon/data/sat_interp_repo/sat-interp-tid-analysis/'\n",
    "    scratch = '/home/pxv220017/scratch/'\n",
    "\n",
    "import sys\n",
    "sys.path.append('')\n",
    "sys.path.append(f'{work}prasoon_utility_programs')\n",
    "sys.path.append(f'{work}Qingyu_Cesar_EIA_IHA')\n",
    "import functions"
   ]
  },
  {
   "cell_type": "code",
   "execution_count": 9,
   "id": "b9c104c6-f11d-43e1-918e-2be90ee6408d",
   "metadata": {},
   "outputs": [],
   "source": [
    "month = 'june' # 'march'\n",
    "\n",
    "if month == 'sept' or month == 'march':\n",
    "    phase = 'equinox'\n",
    "else:\n",
    "    phase = 'solstice'\n",
    "\n",
    "if month == 'sept':\n",
    "    years = list(range(2007, 2010)) + list(range(2018, 2021)) + list(range(2000, 2003)) + list(range(2012, 2015)) + list(range(2022, 2024))\n",
    "else:\n",
    "    years = list(range(2007, 2010)) + list(range(2018, 2021)) + list(range(2000, 2003)) + list(range(2012, 2015)) + list(range(2022, 2025))\n",
    "\n",
    "\n",
    "asy_ind = []\n",
    "\n",
    "for y in years:\n",
    "    f = pd.read_csv(f'{work}Qingyu_Cesar_EIA_IHA/outputs/{month}/asy_{str(y)}_{month}.csv')\n",
    "    asy_ind.append(f)"
   ]
  },
  {
   "cell_type": "code",
   "execution_count": 10,
   "id": "5a956f1e-67d2-4ac3-a05d-05d261f80c28",
   "metadata": {},
   "outputs": [
    {
     "name": "stderr",
     "output_type": "stream",
     "text": [
      "1it [00:00,  9.68it/s]"
     ]
    },
    {
     "name": "stdout",
     "output_type": "stream",
     "text": [
      "       mlt        asy\n",
      "17  13.125  16.586575\n",
      "18  13.875  18.308307\n",
      "19  14.625  20.836941\n",
      "20  15.375  25.547672\n",
      "21  16.125  29.186294\n",
      "22  16.875  33.947837\n",
      "25  19.125  55.629740\n",
      "26  19.875  44.253906\n",
      "27  20.625  27.411532\n",
      "28  21.375   2.652788\n",
      "29  22.125 -16.699809\n",
      "30  22.875 -28.804311\n",
      "31  23.625 -40.352498\n",
      "       mlt        asy\n",
      "17  13.125   1.647388\n",
      "18  13.875   6.326920\n",
      "19  14.625  12.752935\n",
      "20  15.375  17.747342\n",
      "26  19.875  87.015907\n",
      "27  20.625  88.778047\n",
      "28  21.375  84.986434\n",
      "29  22.125  71.976606\n",
      "30  22.875  61.637259\n",
      "31  23.625  51.196621\n",
      "       mlt        asy\n",
      "17  13.125   0.662995\n",
      "18  13.875  -0.812731\n",
      "19  14.625   0.534293\n",
      "20  15.375   5.057673\n",
      "21  16.125   6.023817\n",
      "22  16.875   4.798135\n",
      "23  17.625  13.986839\n",
      "24  18.375  19.120417\n",
      "25  19.125  16.879132\n",
      "26  19.875  11.240315\n",
      "27  20.625  14.819663\n",
      "28  21.375  20.579287\n",
      "29  22.125  31.505732\n",
      "30  22.875  42.871644\n",
      "31  23.625  54.666527\n"
     ]
    },
    {
     "name": "stderr",
     "output_type": "stream",
     "text": [
      "5it [00:00, 11.00it/s]"
     ]
    },
    {
     "name": "stdout",
     "output_type": "stream",
     "text": [
      "       mlt        asy\n",
      "17  13.125   0.591138\n",
      "18  13.875   5.105171\n",
      "19  14.625  10.305222\n",
      "20  15.375  15.588667\n",
      "21  16.125  18.359130\n",
      "22  16.875  19.224451\n",
      "23  17.625  22.159412\n",
      "24  18.375  31.364140\n",
      "25  19.125  45.969954\n",
      "26  19.875  44.636680\n",
      "27  20.625  44.466976\n",
      "28  21.375  45.770532\n",
      "29  22.125  50.148069\n",
      "30  22.875  57.968428\n",
      "31  23.625  69.802444\n",
      "       mlt        asy\n",
      "17  13.125   0.487579\n",
      "18  13.875   0.961159\n",
      "19  14.625   4.221890\n",
      "20  15.375   5.890474\n",
      "21  16.125   6.371949\n",
      "22  16.875   7.258280\n",
      "23  17.625  11.403283\n",
      "24  18.375  23.990721\n",
      "25  19.125  38.141631\n",
      "26  19.875  38.240650\n",
      "27  20.625  38.425182\n",
      "28  21.375  39.343232\n",
      "29  22.125  44.469914\n",
      "30  22.875  58.008368\n",
      "31  23.625  75.092258\n"
     ]
    },
    {
     "name": "stderr",
     "output_type": "stream",
     "text": [
      "\n"
     ]
    }
   ],
   "source": [
    "if month == 'sept':\n",
    "    solar_cyc = [[list(range(2007, 2010))], [list(range(2018, 2021))], [list(range(2000, 2003))], [list(range(2012, 2015))], [list(range(2022, 2024))]]\n",
    "else:\n",
    "    solar_cyc = [[list(range(2007, 2010))], [list(range(2018, 2021))], [list(range(2000, 2003))], [list(range(2012, 2015))], [list(range(2022, 2025))]]\n",
    "\n",
    "\n",
    "sc = ['Baseline Min-SC24', 'Baseline Min-SC25', 'Baseline Max-SC23', 'Baseline Max-SC24', 'Baseline Max-SC25']\n",
    "\n",
    "sc_base = []\n",
    "\n",
    "for s, n in tqdm(zip(solar_cyc, sc)):\n",
    "\n",
    "    fig = plt.figure(figsize=(12,8))\n",
    "\n",
    "    for periods in s:\n",
    "        columns = ['mlt', 'asy']\n",
    "        baseline = pd.DataFrame(columns=columns)\n",
    "\n",
    "        for p in periods:\n",
    "            a = pd.read_csv(f'{work}/Qingyu_Cesar_EIA_IHA/outputs/{month}/asy_{str(p)}_{month}.csv')\n",
    "            a = a.drop(['mlat_n', 'mlat_s', 'tec_n', 'tec_s'], axis=1)\n",
    "            #a = a.dropna(subset = 'asy')\n",
    "            baseline = pd.concat([baseline, a], axis=0).reset_index(drop=True)\n",
    "            plt.plot(a.mlt, a.asy, linestyle = '--', label = f'{str(p)} ASY Index')\n",
    "        \n",
    "        baseline = baseline.sort_values(by=['mlt'], ascending=[True])\n",
    "        bins_mlt = pd.cut(baseline['mlt'], bins=pd.interval_range(start=0, end=24, freq=0.75))\n",
    "        baseline['mlt'] = bins_mlt\n",
    "        baseline = baseline.groupby(['mlt'])['asy'].mean().reset_index()\n",
    "        baseline['mlt'] = baseline['mlt'].apply(lambda x: x.mid)\n",
    "        baseline['mlt'] = baseline['mlt'].astype(float)\n",
    "        baseline.dropna(inplace=True)\n",
    "        plt.plot(baseline.mlt, baseline.asy, label=n, linewidth=3)\n",
    "        print(baseline)\n",
    "        break\n",
    "    \n",
    "    plt.ylim(-30,30)\n",
    "    plt.axhline(y=0, color='red', linestyle='-.')\n",
    "    plt.legend()\n",
    "    plt.title('Asymmetry Index of the EIA Peak Magnitude')\n",
    "    plt.ylabel('ASY index (%)')\n",
    "    plt.xlabel('MLT (Hours)')\n",
    "    plt.grid(True)\n",
    "    fig.savefig(f'{work}Qingyu_Cesar_EIA_IHA/outputs/asy_ind/{month}/{n[-8:]}_{month}.jpg')\n",
    "    fig.show()\n",
    "    \n",
    "    sc_base.append(baseline)\n"
   ]
  },
  {
   "cell_type": "code",
   "execution_count": 11,
   "id": "1472a31e-125e-4562-b14b-44ca9fe7a897",
   "metadata": {},
   "outputs": [],
   "source": [
    "color = ['C0','C1','C2','C3','C4','C5','C6','C7','C8','C9']\n",
    "marker = ['o', 'x', 'D', 's']\n",
    "\n",
    "\n",
    "# Solar maxima EIAs\n",
    "fig = plt.figure(figsize=(12,8))\n",
    "for s, name in zip(sc_base[3:], sc[3:]):\n",
    "    plt.plot(s.mlt, s.asy, label=name, linewidth=3)\n",
    "n = 0\n",
    "\n",
    "for a, y in zip(asy_ind[9:], years[9:]):\n",
    "    plt.plot(a.mlt, a.asy, linestyle = '--', c = color[n])\n",
    "    if y < 2011:\n",
    "        m = marker[0]\n",
    "    elif y < 2021:\n",
    "        m = marker[1]\n",
    "    else:\n",
    "        m = marker[2]\n",
    "    plt.scatter(a.mlt, a.asy, marker = m, c = color[n], label=f'{str(y)} ASY Index', s=20)\n",
    "    n = n + 1\n",
    "\n",
    "plt.ylim(-30,30)\n",
    "plt.axhline(y=0, color='red', linestyle='-.')\n",
    "plt.legend()\n",
    "plt.title('Asymmetry Index of the EIA Peak Magnitude')\n",
    "plt.ylabel('ASY index (%)')\n",
    "plt.xlim(13,22)\n",
    "plt.xlabel('MLT (Hours)')\n",
    "plt.grid(True)\n",
    "fig.savefig(f'{work}Qingyu_Cesar_EIA_IHA/outputs/asy_ind/{month}/asy_all_MAX_{month}.jpg')\n",
    "fig.show()\n",
    "\n",
    "# Solar minima EIAs\n",
    "fig = plt.figure(figsize=(12,8))\n",
    "for s, name in zip(sc_base[:2], sc[:2]):\n",
    "    plt.plot(s.mlt, s.asy, label=name, linewidth=3)\n",
    "n = 0\n",
    "\n",
    "for a, y in zip(asy_ind[:6], years[:6]):\n",
    "    plt.plot(a.mlt, a.asy, linestyle = '--', c = color[n])\n",
    "    if y < 2011:\n",
    "        m = marker[0]\n",
    "    elif y < 2021:\n",
    "        m = marker[1]\n",
    "    else:\n",
    "        m = marker[2]\n",
    "    plt.scatter(a.mlt, a.asy, marker = m, c = color[n], label=str(y) + ' ASY Index', s=20)\n",
    "    n = n + 1\n",
    "\n",
    "plt.ylim(-30,30)\n",
    "plt.axhline(y=0, color='red', linestyle='-.')\n",
    "plt.legend()\n",
    "plt.title('Asymmetry Index of the EIA Peak Magnitude')\n",
    "plt.ylabel('ASY index (%)')\n",
    "plt.xlim(13,22)\n",
    "plt.xlabel('MLT (Hours)')\n",
    "plt.grid(True)\n",
    "fig.savefig(f'{work}Qingyu_Cesar_EIA_IHA/outputs/asy_ind/{month}/asy_all_MIN_{month}.jpg')\n",
    "fig.show()\n",
    "\n"
   ]
  },
  {
   "cell_type": "code",
   "execution_count": 12,
   "id": "756fbd8f-66e3-4233-a5e0-f30545b01848",
   "metadata": {},
   "outputs": [],
   "source": [
    "color = ['C0', 'C1', 'C2', 'C3', 'C4', 'C5', 'C6', 'C7', 'C8', 'C9']\n",
    "\n",
    "# Solar Max Peak Locations\n",
    "n = 0\n",
    "fig = plt.figure(figsize=(12,8))\n",
    "for a, y in zip(asy_ind[6:], years[6:]):\n",
    "    a_n = a[a.mlat_n > 8].reset_index(drop=True)\n",
    "    a_s = a[a.mlat_s < -8].reset_index(drop=True)\n",
    "    if y < 2003:\n",
    "        mlat = list(a_s.mlat_s)\n",
    "        time = list(a_s.mlt)\n",
    "    else:\n",
    "        mlat = list(a_n.mlat_n) + list(a_s.mlat_s)\n",
    "        time = list(a_n.mlt) + list(a_s.mlt)\n",
    "        plt.plot(list(a_n.mlt), list(a_n.mlat_n), c=color[n])\n",
    "    plt.scatter(time, mlat, c=color[n], label = str(y))\n",
    "    plt.plot(list(a_s.mlt), list(a_s.mlat_s), c=color[n])\n",
    "    n = n+1\n",
    "    \n",
    "if month == 'june':\n",
    "    plt.ylim(-15,30)\n",
    "else:\n",
    "    plt.ylim(-20,20)\n",
    "plt.xlim(13,22)\n",
    "plt.legend()\n",
    "plt.title('Position of NH SH Peaks During Solar Maximas')\n",
    "plt.ylabel('MLAT')\n",
    "plt.xlabel('MLT (Hours)')\n",
    "plt.grid(True)\n",
    "fig.savefig(f'{work}Qingyu_Cesar_EIA_IHA/outputs/asy_ind/{month}/pos_all_MAX_{month}.jpg')\n",
    "fig.show()\n",
    "\n",
    "\n",
    "# Solar Min Peak Locations\n",
    "fig = plt.figure(figsize=(12,8))\n",
    "n = 0\n",
    "for a, y in zip(asy_ind[:6], years[:6]):\n",
    "    a_n = a[a.mlat_n > 8].reset_index(drop=True)\n",
    "    a_s = a[a.mlat_s < -8].reset_index(drop=True)\n",
    "    if y < 2003:\n",
    "        mlat = list(a_s.mlat_s)\n",
    "        time = list(a_s.mlt)\n",
    "    else:\n",
    "        mlat = list(a_n.mlat_n) + list(a_s.mlat_s)\n",
    "        time = list(a_n.mlt) + list(a_s.mlt)\n",
    "        plt.plot(list(a_s.mlt), list(a_s.mlat_s), c=color[n])\n",
    "    plt.scatter(time, mlat, c = color[n], label=str(y))\n",
    "    plt.plot(list(a_n.mlt), list(a_n.mlat_n), c=color[n])\n",
    "    n = n + 1\n",
    "\n",
    "if month == 'june':\n",
    "    plt.ylim(-20, 30)\n",
    "else:\n",
    "    plt.ylim(-15,15)\n",
    "plt.xlim(13,22)\n",
    "plt.legend()\n",
    "plt.title('Position of NH SH Peaks During Solar Minimas')\n",
    "plt.ylabel('MLAT')\n",
    "plt.xlabel('MLT (Hours)')\n",
    "plt.grid(True)\n",
    "fig.savefig(f'{work}Qingyu_Cesar_EIA_IHA/outputs/asy_ind/{month}/pos_all_MIN_{month}.jpg')\n",
    "fig.show()\n"
   ]
  },
  {
   "cell_type": "code",
   "execution_count": null,
   "id": "ae9a6a14-02b2-49fb-9aba-465a38c12219",
   "metadata": {},
   "outputs": [],
   "source": []
  },
  {
   "cell_type": "code",
   "execution_count": null,
   "id": "cd7a06f7",
   "metadata": {},
   "outputs": [],
   "source": []
  },
  {
   "cell_type": "code",
   "execution_count": null,
   "id": "7320a789",
   "metadata": {},
   "outputs": [],
   "source": []
  }
 ],
 "metadata": {
  "kernelspec": {
   "display_name": "Python 3 (ipykernel)",
   "language": "python",
   "name": "python3"
  },
  "language_info": {
   "codemirror_mode": {
    "name": "ipython",
    "version": 3
   },
   "file_extension": ".py",
   "mimetype": "text/x-python",
   "name": "python",
   "nbconvert_exporter": "python",
   "pygments_lexer": "ipython3",
   "version": "3.8.19"
  }
 },
 "nbformat": 4,
 "nbformat_minor": 5
}
