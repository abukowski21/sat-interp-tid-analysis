{
 "cells": [
  {
   "cell_type": "markdown",
   "id": "de11a633-fe9b-44b9-9a55-63a839728d36",
   "metadata": {},
   "source": [
    "# Intro\n",
    "- This is the first jupyter notebook for the EIA interhemispheric assymmetry (IHA) seen during different solar cycles\n",
    "- TEC comparison during the March equinox is carried out"
   ]
  },
  {
   "cell_type": "code",
   "execution_count": null,
   "id": "1d476d2c-00d0-4d4d-959f-c2a8eaddf043",
   "metadata": {},
   "outputs": [],
   "source": []
  },
  {
   "cell_type": "code",
   "execution_count": 26,
   "id": "0f9f8760-c7ab-429e-82c9-027582f8a525",
   "metadata": {},
   "outputs": [],
   "source": [
    "import pandas as pd\n",
    "import numpy as np\n",
    "import matplotlib.pyplot as plt\n",
    "import xarray as xr\n",
    "\n",
    "import cartopy.crs as ccrs\n",
    "from cartopy.feature.nightshade import Nightshade\n",
    "from mpl_toolkits.axes_grid1 import make_axes_locatable\n",
    "\n",
    "from tqdm import tqdm\n",
    "import apexpy\n",
    "from apexpy import Apex\n",
    "\n",
    "import os\n",
    "import importlib as il\n",
    "import datetime as dt\n",
    "from scipy.interpolate import CubicSpline\n",
    "\n",
    "import sys\n",
    "sys.path.append('../')\n",
    "from utility_programs import filters\n",
    "from scipy.signal import find_peaks, savgol_filter\n",
    "from multiprocessing import Pool, cpu_count\n",
    "\n",
    "sys.path.append('/home/pxv220016/prasoon/data/sat_interp_repo/repo2/prasoon_utility_programs')"
   ]
  },
  {
   "cell_type": "code",
   "execution_count": 13,
   "id": "826110f5-c8f8-42ee-bc73-4df55e963490",
   "metadata": {},
   "outputs": [
    {
     "name": "stderr",
     "output_type": "stream",
     "text": [
      "100%|███████████████████████████████████████████| 44/44 [17:51<00:00, 24.35s/it]"
     ]
    },
    {
     "name": "stdout",
     "output_type": "stream",
     "text": [
      "44\n",
      "           GDLAT   GLON   TEC                  DT\n",
      "0          -90.0 -124.0  12.0 2014-03-20 00:02:30\n",
      "1          -90.0 -123.0  11.9 2014-03-20 00:02:30\n",
      "2          -90.0 -122.0  11.8 2014-03-20 00:02:30\n",
      "3          -90.0  -33.0  13.2 2014-03-20 00:02:30\n",
      "4          -90.0  -31.0  13.0 2014-03-20 00:02:30\n",
      "...          ...    ...   ...                 ...\n",
      "188069583   88.0   90.0  10.9 2014-03-01 23:57:30\n",
      "188069584   88.0   92.0  10.8 2014-03-01 23:57:30\n",
      "188069585   88.0  148.0  11.8 2014-03-01 23:57:30\n",
      "188069586   88.0  149.0  11.7 2014-03-01 23:57:30\n",
      "188069587   89.0  149.0  11.7 2014-03-01 23:57:30\n",
      "\n",
      "[188069588 rows x 4 columns]\n"
     ]
    },
    {
     "name": "stderr",
     "output_type": "stream",
     "text": [
      "\n"
     ]
    }
   ],
   "source": [
    "path = '/home/pxv220016/scratch/Qingyu_Cesar_EIA/'\n",
    "files = os.listdir(path)\n",
    "\n",
    "tec_g = []\n",
    "columns = ['GDLAT', 'GLON', 'TEC', 'DT']\n",
    "grnd_tec = pd.DataFrame(columns=columns)\n",
    "\n",
    "for f in tqdm(files):\n",
    "    df = pd.read_csv(path+f, sep=r'\\s+')\n",
    "    d = [dt.datetime(y,m,d,h,mi,s) for y,m,d,h,mi,s in zip(df.YEAR, df.MONTH, df.DAY, df.HOUR, df.MIN, df.SEC)]\n",
    "    df['DT'] = d\n",
    "    df = df.drop(['RECNO','KINDAT','KINST','UT1_UNIX','UT2_UNIX','YEAR','MONTH','DAY','HOUR','MIN','SEC','DTEC'], axis=1)\n",
    "    if 'GDALT' in df.columns:\n",
    "        df = df.drop(['GDALT'],axis=1)\n",
    "    tec_g.append(df)\n",
    "    grnd_tec = pd.concat([grnd_tec, df], axis = 0)\n",
    "\n",
    "grnd_tec.reset_index(drop=True, inplace=True)\n",
    "print(len(tec_g))\n",
    "print(grnd_tec)\n"
   ]
  },
  {
   "cell_type": "code",
   "execution_count": 27,
   "id": "f472acee-2396-40fb-8cc3-f43bcb9dbb51",
   "metadata": {},
   "outputs": [],
   "source": [
    "def magnetic_coords(sat_data):\n",
    "    mlat = []\n",
    "    mlon = []\n",
    "    mlt = []\n",
    "    \n",
    "    # Introducing the MLAT, MLON, MLT columns in satlocddf\n",
    "    for glat, glon, gtime in tqdm(zip(sat_data.GDLAT, sat_data.GLON, sat_data.DT), total=len(sat_data.GLON)):\n",
    "    \n",
    "        decimal_year = gtime.year + ((gtime - dt.datetime(gtime.year, 1, 1)).days)/365\n",
    "\n",
    "        apex = Apex(decimal_year)\n",
    "        mlatitude, mlongitude = apex.convert(glat, glon, 'geo', 'apex')\n",
    "        mtime = apex.mlon2mlt(mlongitude, gtime)\n",
    "        #mlatitude, mlongitude = magfield\n",
    "        mlat.append(mlatitude)\n",
    "        mlon.append(mlongitude)\n",
    "        mlt.append(mtime)\n",
    "\n",
    "    # Adding mlat and mlon data variables in dataset\n",
    "    sat_data['MLAT'] = mlat\n",
    "    sat_data['MLON'] = mlon\n",
    "    sat_data['MLT'] = mlt\n",
    "    \n",
    "    return sat_data\n"
   ]
  },
  {
   "cell_type": "code",
   "execution_count": 29,
   "id": "5f0564a5-268c-41ad-a4e2-5499bf752e9f",
   "metadata": {},
   "outputs": [
    {
     "name": "stderr",
     "output_type": "stream",
     "text": [
      "  1%|▏                         | 1682404/188069588 [11:24<21:04:03, 2457.53it/s]\n"
     ]
    },
    {
     "ename": "KeyboardInterrupt",
     "evalue": "",
     "output_type": "error",
     "traceback": [
      "\u001b[0;31m---------------------------------------------------------------------------\u001b[0m",
      "\u001b[0;31mKeyboardInterrupt\u001b[0m                         Traceback (most recent call last)",
      "Cell \u001b[0;32mIn[29], line 1\u001b[0m\n\u001b[0;32m----> 1\u001b[0m grnd_tec \u001b[38;5;241m=\u001b[39m magnetic_coords(grnd_tec)\n\u001b[1;32m      2\u001b[0m \u001b[38;5;28mprint\u001b[39m(grnd_tec)\n",
      "Cell \u001b[0;32mIn[27], line 11\u001b[0m, in \u001b[0;36mmagnetic_coords\u001b[0;34m(sat_data)\u001b[0m\n\u001b[1;32m      7\u001b[0m \u001b[38;5;28;01mfor\u001b[39;00m glat, glon, gtime \u001b[38;5;129;01min\u001b[39;00m tqdm(\u001b[38;5;28mzip\u001b[39m(sat_data\u001b[38;5;241m.\u001b[39mGDLAT, sat_data\u001b[38;5;241m.\u001b[39mGLON, sat_data\u001b[38;5;241m.\u001b[39mDT), total\u001b[38;5;241m=\u001b[39m\u001b[38;5;28mlen\u001b[39m(sat_data\u001b[38;5;241m.\u001b[39mGLON)):\n\u001b[1;32m      9\u001b[0m     decimal_year \u001b[38;5;241m=\u001b[39m gtime\u001b[38;5;241m.\u001b[39myear \u001b[38;5;241m+\u001b[39m ((gtime \u001b[38;5;241m-\u001b[39m dt\u001b[38;5;241m.\u001b[39mdatetime(gtime\u001b[38;5;241m.\u001b[39myear, \u001b[38;5;241m1\u001b[39m, \u001b[38;5;241m1\u001b[39m))\u001b[38;5;241m.\u001b[39mdays)\u001b[38;5;241m/\u001b[39m\u001b[38;5;241m365\u001b[39m\n\u001b[0;32m---> 11\u001b[0m     apex \u001b[38;5;241m=\u001b[39m Apex(decimal_year)\n\u001b[1;32m     12\u001b[0m     mlatitude, mlongitude \u001b[38;5;241m=\u001b[39m apex\u001b[38;5;241m.\u001b[39mconvert(glat, glon, \u001b[38;5;124m'\u001b[39m\u001b[38;5;124mgeo\u001b[39m\u001b[38;5;124m'\u001b[39m, \u001b[38;5;124m'\u001b[39m\u001b[38;5;124mapex\u001b[39m\u001b[38;5;124m'\u001b[39m)\n\u001b[1;32m     13\u001b[0m     mtime \u001b[38;5;241m=\u001b[39m apex\u001b[38;5;241m.\u001b[39mmlon2mlt(mlongitude, gtime)\n",
      "File \u001b[0;32m~/.conda/envs/jlab/lib/python3.11/site-packages/apexpy/apex.py:105\u001b[0m, in \u001b[0;36mApex.__init__\u001b[0;34m(self, date, refh, datafile, fortranlib)\u001b[0m\n\u001b[1;32m    100\u001b[0m     \u001b[38;5;28;01mexcept\u001b[39;00m \u001b[38;5;167;01mAttributeError\u001b[39;00m:\n\u001b[1;32m    101\u001b[0m         \u001b[38;5;66;03m# Failed while finding datetime attribute, so\u001b[39;00m\n\u001b[1;32m    102\u001b[0m         \u001b[38;5;66;03m# date is probably an int or float; use directly\u001b[39;00m\n\u001b[1;32m    103\u001b[0m         \u001b[38;5;28mself\u001b[39m\u001b[38;5;241m.\u001b[39myear \u001b[38;5;241m=\u001b[39m date\n\u001b[0;32m--> 105\u001b[0m \u001b[38;5;28;01mif\u001b[39;00m \u001b[38;5;129;01mnot\u001b[39;00m os\u001b[38;5;241m.\u001b[39mpath\u001b[38;5;241m.\u001b[39misfile(datafile):\n\u001b[1;32m    106\u001b[0m     \u001b[38;5;28;01mraise\u001b[39;00m \u001b[38;5;167;01mIOError\u001b[39;00m(\u001b[38;5;124m'\u001b[39m\u001b[38;5;124mData file does not exist: \u001b[39m\u001b[38;5;132;01m{}\u001b[39;00m\u001b[38;5;124m'\u001b[39m\u001b[38;5;241m.\u001b[39mformat(datafile))\n\u001b[1;32m    108\u001b[0m \u001b[38;5;28;01mif\u001b[39;00m \u001b[38;5;129;01mnot\u001b[39;00m os\u001b[38;5;241m.\u001b[39mpath\u001b[38;5;241m.\u001b[39misfile(fortranlib):\n",
      "File \u001b[0;32m<frozen genericpath>:30\u001b[0m, in \u001b[0;36misfile\u001b[0;34m(path)\u001b[0m\n",
      "\u001b[0;31mKeyboardInterrupt\u001b[0m: "
     ]
    }
   ],
   "source": [
    "grnd_tec = magnetic_coords(grnd_tec)\n",
    "print(grnd_tec)"
   ]
  }
 ],
 "metadata": {
  "kernelspec": {
   "display_name": "Python 3 (ipykernel)",
   "language": "python",
   "name": "python3"
  },
  "language_info": {
   "codemirror_mode": {
    "name": "ipython",
    "version": 3
   },
   "file_extension": ".py",
   "mimetype": "text/x-python",
   "name": "python",
   "nbconvert_exporter": "python",
   "pygments_lexer": "ipython3",
   "version": "3.11.3"
  }
 },
 "nbformat": 4,
 "nbformat_minor": 5
}
