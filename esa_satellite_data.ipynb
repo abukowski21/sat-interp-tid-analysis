{
 "cells": [
  {
   "cell_type": "code",
   "execution_count": 100,
   "id": "4b3eaba5-e69a-4f09-a5ab-51c7fe12be6f",
   "metadata": {},
   "outputs": [],
   "source": [
    "# Import necessary libraries\n",
    "import cdflib\n",
    "import xarray as xr\n",
    "import os\n",
    "import urllib.request\n",
    "import numpy as np"
   ]
  },
  {
   "cell_type": "code",
   "execution_count": 129,
   "id": "6717693c-88c6-46c0-bfce-212beac35351",
   "metadata": {},
   "outputs": [
    {
     "name": "stdout",
     "output_type": "stream",
     "text": [
      "Columns in Satellite Data ['Timestamp', 'Latitude', 'Longitude', 'Radius', 'GPS_Position', 'LEO_Position', 'PRN', 'L1', 'L2', 'P1', 'P2', 'S1_C_N0', 'S2_C_N0', 'Absolute_STEC', 'Absolute_VTEC', 'Elevation_Angle', 'Relative_STEC', 'Relative_STEC_RMS', 'DCB', 'DCB_Error']\n",
      "\n",
      "<xarray.Dataset>\n",
      "Dimensions:            (step: 56708)\n",
      "Dimensions without coordinates: step\n",
      "Data variables: (12/24)\n",
      "    Timestamp          (step) float64 6.353e+13 6.353e+13 ... 6.353e+13\n",
      "    Latitude           (step) float64 -60.57 -60.57 -60.57 ... 26.16 26.16 26.16\n",
      "    Longitude          (step) float64 -175.0 -175.0 -175.0 ... 2.732 2.732 2.732\n",
      "    Radius             (step) float64 6.825e+06 6.825e+06 ... 6.822e+06\n",
      "    GPS_Position_1     (step) float64 -3.798e+06 -1.924e+07 ... 2.534e+07\n",
      "    GPS_Position_2     (step) float64 -1.475e+07 1.345e+07 ... -7.897e+06\n",
      "    ...                 ...\n",
      "    Absolute_VTEC      (step) float64 11.79 7.872 11.45 ... 4.446 4.638 6.125\n",
      "    Elevation_Angle    (step) float64 43.01 37.0 30.6 ... 24.11 52.51 54.28\n",
      "    Relative_STEC      (step) float64 86.47 56.26 80.43 ... 46.5 52.91 37.42\n",
      "    Relative_STEC_RMS  (step) float64 0.7086 0.8702 0.9075 ... 0.6698 0.2849\n",
      "    DCB                float64 -39.28\n",
      "    DCB_Error          float64 0.9034\n"
     ]
    }
   ],
   "source": [
    "fname = ['GR_OPER_TEC1TMS_2F_20130316T000000_20130316T235959_0101.cdf', 'GR_OPER_TEC1TMS_2F_20130317T000000_20130317T235959_0101.cdf', 'GR_OPER_TEC1TMS_2F_20130318T000000_20130318T235959_0101.cdf', 'GR_OPER_TEC2TMS_2F_20130316T000000_20130316T235959_0101.cdf', 'GR_OPER_TEC2TMS_2F_20130317T000000_20130317T235959_0101.cdf', 'GR_OPER_TEC2TMS_2F_20130318T000000_20130318T235959_0101.cdf']\n",
    "\n",
    "for f in fname[5:]:\n",
    "    path = 'ESA_GRACE_data/' + f\n",
    "    data = xr.Dataset()\n",
    "    d = cdflib.CDF(path)\n",
    "\n",
    "    print('Columns in Satellite Data', d.cdf_info().zVariables)\n",
    "\n",
    "    step = range(len(d['Timestamp']))\n",
    "    \n",
    "    for var_name in d.cdf_info().zVariables:\n",
    "        \n",
    "        var_data = d[var_name]\n",
    "\n",
    "        if var_name == 'DCB' or var_name == 'DCB_Error' :\n",
    "            data[var_name] = d[var_name]\n",
    "        \n",
    "        elif type(var_data[0]) == np.ndarray:\n",
    "            var_name1 = var_name + '_1'\n",
    "            var_name2 = var_name + '_2'\n",
    "            var_name3 = var_name + '_3'\n",
    "            data[var_name1] = ('step', [i for i,j,k in var_data], {'step': step})\n",
    "            data[var_name2] = ('step', [j for i,j,k in var_data], {'step': step})\n",
    "            data[var_name3] = ('step', [k for i,j,k in var_data], {'step': step})\n",
    "\n",
    "        else:\n",
    "            data[var_name] = ('step', var_data, {'step': step})\n",
    "\n",
    "print()\n",
    "print(data)\n"
   ]
  },
  {
   "cell_type": "code",
   "execution_count": null,
   "id": "c132619b-ec82-40af-996e-8171fe9124d8",
   "metadata": {},
   "outputs": [],
   "source": []
  },
  {
   "cell_type": "code",
   "execution_count": null,
   "id": "7b81846e-f29b-403c-8e51-1244517104b1",
   "metadata": {},
   "outputs": [],
   "source": []
  }
 ],
 "metadata": {
  "kernelspec": {
   "display_name": "Python 3 (ipykernel)",
   "language": "python",
   "name": "python3"
  },
  "language_info": {
   "codemirror_mode": {
    "name": "ipython",
    "version": 3
   },
   "file_extension": ".py",
   "mimetype": "text/x-python",
   "name": "python",
   "nbconvert_exporter": "python",
   "pygments_lexer": "ipython3",
   "version": "3.11.3"
  }
 },
 "nbformat": 4,
 "nbformat_minor": 5
}
