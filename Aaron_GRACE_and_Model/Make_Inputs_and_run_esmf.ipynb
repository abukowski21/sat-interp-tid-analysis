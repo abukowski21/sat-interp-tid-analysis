{
 "cells": [
  {
   "cell_type": "code",
   "execution_count": null,
   "id": "ed1aab8b-df83-4cc3-ae09-9f6860fec808",
   "metadata": {},
   "outputs": [],
   "source": []
  },
  {
   "cell_type": "code",
   "execution_count": 1,
   "id": "2fda35e8-678c-4a82-b774-765d0925dccc",
   "metadata": {
    "tags": []
   },
   "outputs": [],
   "source": [
    "# Import necessary libraries\n",
    "import cdflib\n",
    "import xarray as xr\n",
    "\n",
    "import numpy as np\n",
    "import pandas as pd\n",
    "from scipy.signal import find_peaks\n",
    "from tqdm import tqdm\n",
    "\n",
    "import matplotlib.pyplot as plt\n",
    "import cartopy.crs as ccrs\n",
    "from cartopy.feature.nightshade import Nightshade\n",
    "\n",
    "import ecef_geodetic\n",
    "\n",
    "\n",
    "import sys\n",
    "sys.path.append('../../SAMI3-GITM-python')\n",
    "import SAMI3_ESMF_Regrid\n",
    "\n"
   ]
  },
  {
   "cell_type": "code",
   "execution_count": null,
   "id": "5e0282aa-7692-4369-b7ac-750556a4f751",
   "metadata": {},
   "outputs": [],
   "source": []
  },
  {
   "cell_type": "code",
   "execution_count": 2,
   "id": "e751a292-5cd6-4876-b910-8684c14d3b5b",
   "metadata": {},
   "outputs": [],
   "source": [
    "fnames = ['GR_OPER_TEC1TMS_2F_20130316T000000_20130316T235959_0101.cdf', \n",
    "         'GR_OPER_TEC1TMS_2F_20130317T000000_20130317T235959_0101.cdf', \n",
    "         'GR_OPER_TEC1TMS_2F_20130318T000000_20130318T235959_0101.cdf', \n",
    "         # 'GR_OPER_TEC2TMS_2F_20130316T000000_20130316T235959_0101.cdf', \n",
    "         # 'GR_OPER_TEC2TMS_2F_20130317T000000_20130317T235959_0101.cdf', \n",
    "         # 'GR_OPER_TEC2TMS_2F_20130318T000000_20130318T235959_0101.cdf'\n",
    "         ]"
   ]
  },
  {
   "cell_type": "markdown",
   "id": "7eb6e012-8ff3-4375-ae28-d3acca667a62",
   "metadata": {},
   "source": [
    "## Read in data"
   ]
  },
  {
   "cell_type": "code",
   "execution_count": 3,
   "id": "cde69b3f-97a5-49ed-a36c-2ab31dc04773",
   "metadata": {},
   "outputs": [
    {
     "name": "stderr",
     "output_type": "stream",
     "text": [
      "100%|█████████████████████████████████████████████| 3/3 [00:17<00:00,  5.71s/it]"
     ]
    },
    {
     "name": "stdout",
     "output_type": "stream",
     "text": [
      "Columns in Satellite Data: \n",
      " Data variables:\n",
      "    Timestamp          (step) float64 438kB 6.353e+13 6.353e+13 ... 6.353e+13\n",
      "    Latitude           (step) float64 438kB -59.12 -59.12 -59.77 ... 24.74 24.74\n",
      "    Longitude          (step) float64 438kB -175.2 -175.2 -175.2 ... 2.673 2.673\n",
      "    Radius             (step) float64 438kB 6.825e+06 6.825e+06 ... 6.822e+06\n",
      "    GPS_Position_X     (step) float64 438kB 1.975e+06 -3.314e+06 ... 2.534e+07\n",
      "    GPS_Position_Y     (step) float64 438kB -1.886e+07 -2.172e+07 ... -7.897e+06\n",
      "    GPS_Position_Z     (step) float64 438kB -1.894e+07 -1.513e+07 ... 3.192e+06\n",
      "    LEO_Position_X     (step) float64 438kB -3.49e+06 -3.49e+06 ... 6.189e+06\n",
      "    LEO_Position_Y     (step) float64 438kB -2.959e+05 -2.959e+05 ... 2.89e+05\n",
      "    LEO_Position_Z     (step) float64 438kB -5.858e+06 -5.858e+06 ... 2.855e+06\n",
      "    PRN                (step) uint16 109kB 11 32 11 32 11 32 ... 21 25 29 30 31\n",
      "    L1                 (step) float64 438kB 2.347e+07 2.351e+07 ... 2.074e+07\n",
      "    L2                 (step) float64 438kB 2.347e+07 2.351e+07 ... 2.074e+07\n",
      "    P1                 (step) float64 438kB 2.347e+07 2.351e+07 ... 2.074e+07\n",
      "    P2                 (step) float64 438kB 2.347e+07 2.351e+07 ... 2.074e+07\n",
      "    S1_C_N0            (step) float64 438kB 29.86 29.25 29.66 ... 46.96 46.12\n",
      "    S2_C_N0            (step) float64 438kB 29.45 29.45 29.45 ... 44.91 47.39\n",
      "    Absolute_STEC      (step) float64 438kB 19.41 22.34 22.26 ... 7.371 9.956\n",
      "    Absolute_VTEC      (step) float64 438kB 8.694 9.651 10.05 ... 5.825 8.312\n",
      "    Elevation_Angle    (step) float64 438kB 23.3 22.14 23.57 ... 50.93 55.51\n",
      "    Relative_STEC      (step) float64 438kB 64.4 83.47 67.26 ... 66.81 52.22\n",
      "    Relative_STEC_RMS  (step) float64 438kB 1.244 2.05 1.244 ... 0.6286 0.348\n",
      "    DCB                float64 8B -51.56\n",
      "    DCB_Error          float64 8B 0.9651\n",
      "    date               (step) datetime64[ns] 438kB 2013-03-18T23:59:59 ... 20...\n",
      "    LT                 (step) float64 438kB 12.32 12.32 12.33 ... 0.1696 0.1696 Start & end dates: 2013-03-18T23:59:59.000000000 2013-03-19T23:59:29.000000000\n"
     ]
    },
    {
     "name": "stderr",
     "output_type": "stream",
     "text": [
      "\n"
     ]
    }
   ],
   "source": [
    "# Same as old Prasoon code - maybe could be changed? Works fine though\n",
    "# Modification marked below:\n",
    "\n",
    "grace = [] # list of Xarray DataSets from each day\n",
    "\n",
    "for f in tqdm(fnames): # Probably don't need a progress bar here. only takes ~15 seconds\n",
    "    path = 'ESA_GRACE_data/' + f\n",
    "    data = xr.Dataset()\n",
    "    d = cdflib.CDF(path)\n",
    "\n",
    "    step = range(len(d['Timestamp']))\n",
    "    \n",
    "    for var_name in d.cdf_info().zVariables:\n",
    "        \n",
    "        var_data = d[var_name]\n",
    "\n",
    "        if var_name == 'DCB' or var_name == 'DCB_Error' :\n",
    "            data[var_name] = d[var_name]\n",
    "        \n",
    "        elif type(var_data[0]) == np.ndarray:\n",
    "            var_name1 = var_name + '_X'\n",
    "            var_name2 = var_name + '_Y'\n",
    "            var_name3 = var_name + '_Z'\n",
    "            data[var_name1] = ('step', [i for i,j,k in var_data], {'step': step})\n",
    "            data[var_name2] = ('step', [j for i,j,k in var_data], {'step': step})\n",
    "            data[var_name3] = ('step', [k for i,j,k in var_data], {'step': step})\n",
    "\n",
    "        else:\n",
    "            data[var_name] = ('step', var_data, {'step': step})\n",
    "\n",
    "\n",
    "    d0 = pd.Timestamp(f.split('_')[-2])  # Aaron changed how date_0 was calculated.\n",
    "    date = [d0 + pd.Timedelta(milliseconds = (i - data.Timestamp[0].values)) for i in data.Timestamp.values]\n",
    "    data['date'] = ('step', [i for i in date], {'step': step})\n",
    "    lt = ecef_geodetic.ut_to_lt(date, data['Longitude'].values)\n",
    "    data['LT'] = ('step', lt, {'step':step})\n",
    "    \n",
    "    grace.append(data)\n",
    "\n",
    "print('Columns in Satellite Data: \\n', data.data_vars, \n",
    "      'Start & end dates:', data.date.min().values, data.date.max().values)"
   ]
  },
  {
   "cell_type": "code",
   "execution_count": null,
   "id": "0127c253-1724-4a89-8892-0d3431f9d690",
   "metadata": {},
   "outputs": [],
   "source": []
  },
  {
   "cell_type": "code",
   "execution_count": 4,
   "id": "39b6fda5-f080-4171-bf1e-38098fe5350e",
   "metadata": {
    "tags": []
   },
   "outputs": [],
   "source": [
    "# Data is flat - convert it to a Pandas DataFrame. \n",
    "# They're easier to work with and writing csv files is built-in.\n",
    "\n",
    "# Concat the list of xr Datasets, converting each to Pandas as we go\n",
    "df0 = pd.concat([i.to_pandas() for i in grace]).sort_values('date')\n",
    "\n",
    "# Only select columns I care about - drop the index too \n",
    "df = df0[['Timestamp', 'GPS_Position_X', \n",
    "       'GPS_Position_Y', 'GPS_Position_Z', 'LEO_Position_X', 'LEO_Position_Y',\n",
    "       'LEO_Position_Z', 'PRN', 'Latitude', 'Longitude',\n",
    "       'Absolute_STEC', 'Elevation_Angle', 'date', 'LT']].reset_index(drop=True)"
   ]
  },
  {
   "cell_type": "code",
   "execution_count": null,
   "id": "a9157472-8948-4879-8601-a4409e2ddc10",
   "metadata": {},
   "outputs": [],
   "source": []
  },
  {
   "cell_type": "code",
   "execution_count": null,
   "id": "b8952a15-9c34-417b-a580-9b078979cc77",
   "metadata": {},
   "outputs": [],
   "source": []
  },
  {
   "cell_type": "markdown",
   "id": "2fe7f439-d9f4-4d8f-a44f-20644dcda1ec",
   "metadata": {},
   "source": [
    "## Mask off data we don't want\n",
    "\n",
    "This should be easy to change if other data is required\n",
    "\n",
    "The variable `df` is kept so the code after selecting data is generalizable. \n",
    "\n",
    "There is some debug info printed & plotted. None of that is necessary... I'm leaving it in for proofthat the code is working as expected. The cells can be deleted. I would have but wanted to show Prasoon what's happening"
   ]
  },
  {
   "cell_type": "code",
   "execution_count": 5,
   "id": "a51deaea-b9ec-467a-8a4e-c54fb6004cc6",
   "metadata": {},
   "outputs": [],
   "source": [
    "# Only keep data on the 17th\n",
    "\n",
    "# Probably needs to also include a condition on elevation angle..."
   ]
  },
  {
   "cell_type": "code",
   "execution_count": 5,
   "id": "82832ca3-dec5-47f0-9202-fc5c5a14653d",
   "metadata": {
    "tags": []
   },
   "outputs": [],
   "source": [
    "df = df.iloc[np.where((df.date > pd.Timestamp('20130317'))\n",
    "                    & (df.date < pd.Timestamp('20130318')))].reset_index(drop=True)"
   ]
  },
  {
   "cell_type": "code",
   "execution_count": 6,
   "id": "0d0fda78-0fe5-49bc-b924-9467d3603a13",
   "metadata": {},
   "outputs": [
    {
     "data": {
      "text/plain": [
       "(Index(['Timestamp', 'GPS_Position_X', 'GPS_Position_Y', 'GPS_Position_Z',\n",
       "        'LEO_Position_X', 'LEO_Position_Y', 'LEO_Position_Z', 'PRN', 'Latitude',\n",
       "        'Longitude', 'Absolute_STEC', 'Elevation_Angle', 'date', 'LT'],\n",
       "       dtype='object'),\n",
       " array([11, 12, 14, 18, 25, 31, 21, 30,  6, 16, 29,  3,  5, 13,  7, 10, 26,\n",
       "         2,  8,  4,  9, 28, 17, 20, 32, 22, 19, 15, 23], dtype=uint16),\n",
       " Timestamp('2013-03-17 00:00:09'),\n",
       " Timestamp('2013-03-17 23:59:59'))"
      ]
     },
     "execution_count": 6,
     "metadata": {},
     "output_type": "execute_result"
    }
   ],
   "source": [
    "# Just check to make sure things look right - can delete this cell. not needed\n",
    "df.columns, df.PRN.unique(), df.date.min(), df.date.max()"
   ]
  },
  {
   "cell_type": "markdown",
   "id": "cb5b2d98-8cd0-4913-9d56-5f56cc1783be",
   "metadata": {},
   "source": [
    "### Select one orbit\n",
    "\n",
    "Since this is just me debgging, I'm going to filter by day AND only take one of those orbits. "
   ]
  },
  {
   "cell_type": "code",
   "execution_count": 7,
   "id": "b3c13dc2-7a9c-4693-a29f-79f7bb3e3922",
   "metadata": {},
   "outputs": [
    {
     "name": "stdout",
     "output_type": "stream",
     "text": [
      "30\n"
     ]
    }
   ],
   "source": [
    "# Find where absolute value of df.Latitude is highest\n",
    "# Returns peaks & their values. don't care about values, store it as a `_` and forget about it.\n",
    "peaks, _ = find_peaks(df.Latitude.abs())\n",
    "print(len(peaks))"
   ]
  },
  {
   "cell_type": "code",
   "execution_count": 8,
   "id": "9dbf30fe-d4b8-4f82-a0b9-c5ac8e593ae8",
   "metadata": {},
   "outputs": [
    {
     "data": {
      "text/plain": [
       "array([10487, 12328])"
      ]
     },
     "execution_count": 8,
     "metadata": {},
     "output_type": "execute_result"
    }
   ],
   "source": [
    "# Select a random orbit. Needs to be a slice (with +2 at the end) since it indexes with [,)\n",
    "#  The start is inclusive, end is exclusive. \n",
    "#  i.e. [1,2,3,4,5][1:2] = [1]    &    [1,2,3,4,5][1:3] = [1,2]\n",
    "orbit_num = 5\n",
    "peaks = peaks[orbit_num:orbit_num+2]\n",
    "peaks"
   ]
  },
  {
   "cell_type": "code",
   "execution_count": 9,
   "id": "a053e583-4de5-4a21-b395-f3a60f5dedfc",
   "metadata": {
    "tags": []
   },
   "outputs": [
    {
     "data": {
      "image/png": "[encoded data removed]",
      "text/plain": [
       "<Figure size 640x480 with 1 Axes>"
      ]
     },
     "metadata": {},
     "output_type": "display_data"
    }
   ],
   "source": [
    "# Plot to make sure it looks ok...\n",
    "ax = plt.subplot()\n",
    "df.iloc[peaks[0]:peaks[1]].plot(x='date', y='Latitude', ax=ax)\n",
    "df.iloc[peaks[0]:peaks[1]].plot(x='date', y='Longitude', ax=ax);"
   ]
  },
  {
   "cell_type": "code",
   "execution_count": 10,
   "id": "a7b33f53-7880-4833-80bc-25d6cd605853",
   "metadata": {},
   "outputs": [
    {
     "data": {
      "text/plain": [
       "<cartopy.mpl.feature_artist.FeatureArtist at 0x7f74d125c970>"
      ]
     },
     "execution_count": 10,
     "metadata": {},
     "output_type": "execute_result"
    },
    {
     "data": {
      "image/png": "[encoded data removed]",
      "text/plain": [
       "<Figure size 640x480 with 1 Axes>"
      ]
     },
     "metadata": {},
     "output_type": "display_data"
    }
   ],
   "source": [
    "ax = plt.subplot(projection=ccrs.PlateCarree())\n",
    "\n",
    "plt.scatter(df.iloc[peaks[0]:peaks[1]].Longitude, df.iloc[peaks[0]:peaks[1]].Latitude)\n",
    "time = df.date[int((peaks[0] + peaks[1])/2)]\n",
    "\n",
    "ax.coastlines()\n",
    "ax.add_feature(Nightshade(time), alpha=0.3)"
   ]
  },
  {
   "cell_type": "code",
   "execution_count": 11,
   "id": "dd4b2423-2b84-49b2-8e3b-3f03055cc36e",
   "metadata": {
    "tags": []
   },
   "outputs": [
    {
     "data": {
      "text/plain": [
       "(      Timestamp  GPS_Position_X  GPS_Position_Y  GPS_Position_Z  \\\n",
       " 0  6.353063e+13    9.165088e+06    1.634932e+07   -1.852375e+07   \n",
       " 1  6.353063e+13   -8.805825e+06   -1.891161e+07   -1.655661e+07   \n",
       " 2  6.353063e+13   -1.262376e+07   -1.160209e+07   -2.066668e+07   \n",
       " 3  6.353063e+13   -1.443196e+07   -6.971404e+06   -2.104359e+07   \n",
       " 4  6.353063e+13    9.158720e+06    1.637243e+07   -1.850637e+07   \n",
       " \n",
       "    LEO_Position_X  LEO_Position_Y  LEO_Position_Z  PRN   Latitude   Longitude  \\\n",
       " 0  -110254.334811   -39708.116562   -6.828237e+06   31 -89.016781 -160.193507   \n",
       " 1  -110254.334811   -39708.116562   -6.828237e+06    4 -89.016781 -160.193507   \n",
       " 2  -110254.334811   -39708.116562   -6.828237e+06   10 -89.016781 -160.193507   \n",
       " 3  -110254.334811   -39708.116562   -6.828237e+06    2 -89.016781 -160.193507   \n",
       " 4   -75317.419506  -107400.144388   -6.828085e+06   31 -88.899401 -125.041156   \n",
       " \n",
       "    Absolute_STEC  Elevation_Angle                date         LT  \n",
       " 0      17.252205        31.094789 2013-03-17 04:31:39  17.847933  \n",
       " 1      20.962021        25.775995 2013-03-17 04:31:39  17.847933  \n",
       " 2      17.371428        39.989124 2013-03-17 04:31:39  17.847933  \n",
       " 3      16.155111        42.756250 2013-03-17 04:31:39  17.847933  \n",
       " 4      17.304467        30.629627 2013-03-17 04:31:49  20.194201  ,\n",
       "          Timestamp  GPS_Position_X  GPS_Position_Y  GPS_Position_Z  \\\n",
       " 1836  6.353063e+13   -1.257251e+07   -1.351631e+07    1.851652e+07   \n",
       " 1837  6.353063e+13    2.977098e+06   -1.712239e+07    2.061378e+07   \n",
       " 1838  6.353063e+13    1.895191e+06    1.688406e+07    2.057528e+07   \n",
       " 1839  6.353063e+13    2.338181e+07    6.493953e+06    1.119183e+07   \n",
       " 1840  6.353063e+13   -9.769297e+06    1.935736e+07    1.549653e+07   \n",
       " \n",
       "       LEO_Position_X  LEO_Position_Y  LEO_Position_Z  PRN   Latitude  \\\n",
       " 1836   132076.751248   -42335.543805    6.805061e+06    9  88.832399   \n",
       " 1837   111493.398027    31273.005876    6.805387e+06   28  89.025184   \n",
       " 1838   111493.398027    31273.005876    6.805387e+06   22  89.025184   \n",
       " 1839   111493.398027    31273.005876    6.805387e+06   19  89.025184   \n",
       " 1840   111493.398027    31273.005876    6.805387e+06   18  89.025184   \n",
       " \n",
       "       Longitude  Absolute_STEC  Elevation_Angle                date        LT  \n",
       " 1836 -17.772600      12.090170        31.799779 2013-03-17 05:18:19  4.120438  \n",
       " 1837  15.668383      13.615353        38.337335 2013-03-17 05:18:29  6.352614  \n",
       " 1838  15.668383      15.403347        39.449666 2013-03-17 05:18:29  6.352614  \n",
       " 1839  15.668383      27.376924        11.268951 2013-03-17 05:18:29  6.352614  \n",
       " 1840  15.668383      21.976054        21.625740 2013-03-17 05:18:29  6.352614  )"
      ]
     },
     "execution_count": 11,
     "metadata": {},
     "output_type": "execute_result"
    }
   ],
   "source": [
    "# Now set df to be that slice \n",
    "# Keep using the same variable so these cells can be deleted if an entire \n",
    "#  day of satellite data is desired\n",
    "#  Should be easy to modify to and select different data...\n",
    "\n",
    "df = df.iloc[peaks[0]:peaks[1]].reset_index(drop=True)\n",
    "df.head(), df.tail()"
   ]
  },
  {
   "cell_type": "code",
   "execution_count": null,
   "id": "f208930e-dec1-4766-8ed7-49a2bdf02039",
   "metadata": {},
   "outputs": [],
   "source": []
  },
  {
   "cell_type": "markdown",
   "id": "65b32cb8-8596-448a-94bd-9634a8cf35f0",
   "metadata": {},
   "source": [
    "## Make the \"rays\" along line of sight from cartesian positions of grace and gps\n",
    "\n",
    "Use the start & end points and then a weighting factor to scale.\n",
    "\n",
    "I will use log-spacing but the option for linear spacing is included.\n",
    "\n",
    "Since this is a calculation that will be called a bunch, write it as a separate function for increased readability.\n",
    "\n",
    "\n",
    "What I want to do is define a vector from start -> end. Then I will get the distance from start point (specified by the linear vs log spacing) and multiply this by the slope (so it is a vector in the direction & magnitude we want). Add that to the start location and the result is what we want.\n"
   ]
  },
  {
   "cell_type": "code",
   "execution_count": 12,
   "id": "b1944b88-1f94-4891-9422-da620f7c43f6",
   "metadata": {
    "tags": []
   },
   "outputs": [],
   "source": [
    "def line_of_sight_calc(start, end, #start and end pts\n",
    "                       num_points=50, # number of points \n",
    "                       base = 4, # Adjust base of log to get required point density\n",
    "                       spacing='log'): # currently supports log & linear\n",
    "    # Calculate direction vector\n",
    "    direction = np.array(end) - np.array(start)\n",
    "    \n",
    "    if spacing == 'log':\n",
    "        # see below for a discussion on why I did this\n",
    "        deltas = np.geomspace(0.00001, 1, num=num_pts) ** (base/10)\n",
    "    \n",
    "    elif spacing == 'linear':\n",
    "        deltas = np.linspace(0, 1, num=num_points)\n",
    "        \n",
    "    else:\n",
    "        raise ValueError\n",
    "    \n",
    "    # Scale and translate values to fit the line segment\n",
    "    points = [start + t * direction for t in deltas]\n",
    "\n",
    "    return points"
   ]
  },
  {
   "cell_type": "markdown",
   "id": "1c28f09f-ef0a-49ef-8be9-aec0e9469021",
   "metadata": {},
   "source": [
    "### np.logspace() is weird.\n",
    "\n",
    "The arguments are start, stop, num_points, base, etc.\n",
    "\n",
    "What's weird is that the returned points are actually in the range base^start to base^end\n",
    "\n",
    "Found a workaround that is displayed below, but it is easier to just use np.geomspace()\n",
    "\n",
    "\n",
    "You can play with both below & find the parameters you want to use."
   ]
  },
  {
   "cell_type": "code",
   "execution_count": 13,
   "id": "6917bfad-0030-4349-b9a0-5319e253ab16",
   "metadata": {
    "tags": []
   },
   "outputs": [
    {
     "data": {
      "image/png": "[encoded data removed]",
      "text/plain": [
       "<Figure size 640x480 with 1 Axes>"
      ]
     },
     "metadata": {},
     "output_type": "display_data"
    }
   ],
   "source": [
    "# Play with logspace here:\n",
    "base = 2\n",
    "num_pts = 50\n",
    "\n",
    "raw_logspace = np.logspace(0, base, num=num_pts, base=base)\n",
    "better_logspace = np.flip(raw_logspace ** -base) # np.flip is used to reverse the order of the array created by np.logspace. \n",
    "# Before reversing, each element of the raw_logspace array is raised to the power of -base (which is -2), effectively taking the \n",
    "# reciprocal squared of each element.\n",
    "plt.plot(better_logspace)\n",
    "\n",
    "plt.plot(raw_logspace); # Comment out this line to only see the \"good\" logspace. \n",
    "# Try increasing the base and you'll see how weird it is."
   ]
  },
  {
   "cell_type": "code",
   "execution_count": 14,
   "id": "ad49dcc5-9e12-42fa-9171-4f4bbd35b608",
   "metadata": {
    "tags": []
   },
   "outputs": [
    {
     "data": {
      "image/png": "[encoded data removed]",
      "text/plain": [
       "<Figure size 640x480 with 1 Axes>"
      ]
     },
     "metadata": {},
     "output_type": "display_data"
    }
   ],
   "source": [
    "# Play with geomspace here:\n",
    "base = 4\n",
    "num_pts = 50\n",
    "out_alts = np.geomspace(0.00001, 1, num=num_pts)**(base/10)\n",
    "plt.plot(out_alts);"
   ]
  },
  {
   "cell_type": "markdown",
   "id": "2cb6dbd3-b356-442c-90ce-efce8d60b394",
   "metadata": {},
   "source": [
    "I like the look of geomspace with base=4. That's what I'll use. (That doesn't mean it's right, so you might want to test a few...)"
   ]
  },
  {
   "cell_type": "markdown",
   "id": "db2166a6-be2e-426a-b5d3-2d379f060b77",
   "metadata": {},
   "source": [
    "### Make the output (ar)rays"
   ]
  },
  {
   "cell_type": "code",
   "execution_count": 15,
   "id": "263b824a-e2d8-4936-8f8a-60828813f853",
   "metadata": {
    "tags": []
   },
   "outputs": [],
   "source": [
    "# Make a new dataframe so we aren't reusing the last one for everything.\n",
    "# Data will all be added at the end but it is easier to keep them separate\n",
    "df_raypaths = pd.DataFrame()"
   ]
  },
  {
   "cell_type": "code",
   "execution_count": 16,
   "id": "1f0e1fd3-3683-49fa-afa1-05e13c77d6c9",
   "metadata": {
    "tags": []
   },
   "outputs": [],
   "source": [
    "cartesian_points = [] # List so I can append to it."
   ]
  },
  {
   "cell_type": "code",
   "execution_count": 17,
   "id": "7884c3ae-a8ce-431c-a16e-b97ee46301d7",
   "metadata": {
    "tags": []
   },
   "outputs": [],
   "source": [
    "# Iterate thru points in dataframe\n",
    "# Could be vectorized if speed is ever an issue\n",
    "\n",
    "for _, row in df.iterrows(): # Returns index, row... don't care about index\n",
    "    \n",
    "    grace_cart_loc = [row['LEO_Position_X'],\n",
    "                      row['LEO_Position_Y'],\n",
    "                      row['LEO_Position_Z']]\n",
    "\n",
    "    gps_cart_loc = [row['GPS_Position_X'],\n",
    "                    row['GPS_Position_Y'],\n",
    "                    row['GPS_Position_Z']]\n",
    "    \n",
    "    # Compute ray - this is a (N_points, 3) shaped array\n",
    "    a_ray = line_of_sight_calc(grace_cart_loc, gps_cart_loc, )\n",
    "    \n",
    "    # Convert back to lat/lon/alt - ecef conversions need x,y,z & can't be vectorized\n",
    "    a_ray_sph = [] # Same shape as a_ray\n",
    "    for pt in a_ray:\n",
    "        a_ray_sph.append(ecef_geodetic.ecef_to_lla(*pt))\n",
    "        \n",
    "    \n",
    "    cartesian_points.append(a_ray_sph)\n",
    "\n",
    "cartesian_points = np.array(cartesian_points) # easier to slice from than list"
   ]
  },
  {
   "cell_type": "code",
   "execution_count": 18,
   "id": "cd43c1da-8a14-4044-ab00-f717c81436dd",
   "metadata": {
    "tags": []
   },
   "outputs": [
    {
     "name": "stdout",
     "output_type": "stream",
     "text": [
      "shape of cartesian_points:  (1841, 50, 3)\n"
     ]
    }
   ],
   "source": [
    "print('shape of cartesian_points: ', cartesian_points.shape)"
   ]
  },
  {
   "cell_type": "markdown",
   "id": "97c19903-6499-449e-99c8-62429e4b4674",
   "metadata": {},
   "source": [
    "so be careful about adding a lot of points..."
   ]
  },
  {
   "cell_type": "markdown",
   "id": "ee792484-e7cf-429c-bafa-353682a60773",
   "metadata": {},
   "source": [
    "### Making output DataFrame. \n",
    "\n"
   ]
  },
  {
   "cell_type": "code",
   "execution_count": 19,
   "id": "a051186c-728d-47ee-acfb-5febdf70b0bc",
   "metadata": {
    "tags": []
   },
   "outputs": [],
   "source": [
    "df_raypaths['lat'] = cartesian_points[:,:,0].flatten()\n",
    "df_raypaths['lon'] = cartesian_points[:,:,1].flatten()\n",
    "df_raypaths['alt'] = cartesian_points[:,:,2].flatten() / 1000"
   ]
  },
  {
   "cell_type": "code",
   "execution_count": 20,
   "id": "574cee53-c4e3-4ebb-ae20-db9b8e0f20bb",
   "metadata": {
    "tags": []
   },
   "outputs": [
    {
     "data": {
      "text/html": [
       "<div>\n",
       "<style scoped>\n",
       "    .dataframe tbody tr th:only-of-type {\n",
       "        vertical-align: middle;\n",
       "    }\n",
       "\n",
       "    .dataframe tbody tr th {\n",
       "        vertical-align: top;\n",
       "    }\n",
       "\n",
       "    .dataframe thead th {\n",
       "        text-align: right;\n",
       "    }\n",
       "</style>\n",
       "<table border=\"1\" class=\"dataframe\">\n",
       "  <thead>\n",
       "    <tr style=\"text-align: right;\">\n",
       "      <th></th>\n",
       "      <th>lat</th>\n",
       "      <th>lon</th>\n",
       "      <th>alt</th>\n",
       "    </tr>\n",
       "  </thead>\n",
       "  <tbody>\n",
       "    <tr>\n",
       "      <th>0</th>\n",
       "      <td>-88.971863</td>\n",
       "      <td>98.021828</td>\n",
       "      <td>589.565197</td>\n",
       "    </tr>\n",
       "    <tr>\n",
       "      <th>1</th>\n",
       "      <td>-88.849410</td>\n",
       "      <td>93.409610</td>\n",
       "      <td>601.376449</td>\n",
       "    </tr>\n",
       "    <tr>\n",
       "      <th>2</th>\n",
       "      <td>-88.708550</td>\n",
       "      <td>89.391152</td>\n",
       "      <td>614.407089</td>\n",
       "    </tr>\n",
       "    <tr>\n",
       "      <th>3</th>\n",
       "      <td>-88.548634</td>\n",
       "      <td>85.905761</td>\n",
       "      <td>628.788378</td>\n",
       "    </tr>\n",
       "    <tr>\n",
       "      <th>4</th>\n",
       "      <td>-88.368841</td>\n",
       "      <td>82.887652</td>\n",
       "      <td>644.666691</td>\n",
       "    </tr>\n",
       "    <tr>\n",
       "      <th>...</th>\n",
       "      <td>...</td>\n",
       "      <td>...</td>\n",
       "      <td>...</td>\n",
       "    </tr>\n",
       "    <tr>\n",
       "      <th>92045</th>\n",
       "      <td>40.701923</td>\n",
       "      <td>116.642139</td>\n",
       "      <td>13242.522096</td>\n",
       "    </tr>\n",
       "    <tr>\n",
       "      <th>92046</th>\n",
       "      <td>39.312242</td>\n",
       "      <td>116.681394</td>\n",
       "      <td>14745.605614</td>\n",
       "    </tr>\n",
       "    <tr>\n",
       "      <th>92047</th>\n",
       "      <td>37.997834</td>\n",
       "      <td>116.717119</td>\n",
       "      <td>16409.136021</td>\n",
       "    </tr>\n",
       "    <tr>\n",
       "      <th>92048</th>\n",
       "      <td>36.759366</td>\n",
       "      <td>116.749631</td>\n",
       "      <td>18248.447041</td>\n",
       "    </tr>\n",
       "    <tr>\n",
       "      <th>92049</th>\n",
       "      <td>35.596513</td>\n",
       "      <td>116.779221</td>\n",
       "      <td>20280.339604</td>\n",
       "    </tr>\n",
       "  </tbody>\n",
       "</table>\n",
       "<p>92050 rows × 3 columns</p>\n",
       "</div>"
      ],
      "text/plain": [
       "             lat         lon           alt\n",
       "0     -88.971863   98.021828    589.565197\n",
       "1     -88.849410   93.409610    601.376449\n",
       "2     -88.708550   89.391152    614.407089\n",
       "3     -88.548634   85.905761    628.788378\n",
       "4     -88.368841   82.887652    644.666691\n",
       "...          ...         ...           ...\n",
       "92045  40.701923  116.642139  13242.522096\n",
       "92046  39.312242  116.681394  14745.605614\n",
       "92047  37.997834  116.717119  16409.136021\n",
       "92048  36.759366  116.749631  18248.447041\n",
       "92049  35.596513  116.779221  20280.339604\n",
       "\n",
       "[92050 rows x 3 columns]"
      ]
     },
     "execution_count": 20,
     "metadata": {},
     "output_type": "execute_result"
    }
   ],
   "source": [
    "df_raypaths"
   ]
  },
  {
   "cell_type": "markdown",
   "id": "3e8a2c7c-f96c-4fed-a9e7-7cae0ae60982",
   "metadata": {
    "tags": []
   },
   "source": [
    "### Write dataframe to file\n",
    "\n",
    "Also write the raw data, it's useful in the analysis script I made."
   ]
  },
  {
   "cell_type": "code",
   "execution_count": 21,
   "id": "6a42b95a-d4c1-4f48-a0cb-0d257d2d94ef",
   "metadata": {},
   "outputs": [],
   "source": [
    "df_raypaths.to_csv('single_orbit_los.csv', index=False)"
   ]
  },
  {
   "cell_type": "code",
   "execution_count": 22,
   "id": "79598910-ead9-4079-ad1d-f74405283f8a",
   "metadata": {},
   "outputs": [],
   "source": [
    "df.to_csv('single_orbit_raw.csv', index=False)"
   ]
  },
  {
   "cell_type": "markdown",
   "id": "9893b293-e833-45fb-a4e5-d82b4938f13c",
   "metadata": {},
   "source": [
    "## Run ESMF code\n",
    "\n",
    "Not necessary to call os.system() since you imported the SAMI3-ESMF function.\n",
    "\n",
    "Can call the Python from here - I will do interpolation in this file and then analyze it elsewhere.\n",
    "\n",
    "> This will need to be changed by whoever runs it!"
   ]
  },
  {
   "cell_type": "code",
   "execution_count": null,
   "id": "350d9d0c-bd1c-4e3a-ab14-2386f3644fc8",
   "metadata": {},
   "outputs": [],
   "source": []
  },
  {
   "cell_type": "code",
   "execution_count": null,
   "id": "8ba5cf98-5c93-4228-99b6-a153a50a9124",
   "metadata": {},
   "outputs": [],
   "source": []
  },
  {
   "cell_type": "code",
   "execution_count": 23,
   "id": "c6bf28d9-6d6e-4aa1-83a7-dbdcd93952c6",
   "metadata": {},
   "outputs": [
    {
     "name": "stdout",
     "output_type": "stream",
     "text": [
      "Made custom mesh file\n",
      "Found ESMF weight file, making it again...\n",
      "calling ESMF...\n",
      "Output:  Starting weight generation with these inputs: \n",
      "   Source File: /home/pxv220016/scratch/2013-03-17_SAMI/src_ugrid.nc\n",
      "   Destination File: /home/pxv220016/scratch/2013-03-17_SAMI/dst_ugrid.nc\n",
      "   Weight File: /home/pxv220016/scratch/2013-03-17_SAMI/esmf_weightfile.nc\n",
      "   Source File is in UGRID format\n",
      "   Source Grid is a global grid\n",
      "   Source Grid is an unstructured grid\n",
      "   Use the corner coordinates of the source grid to do the regrid\n",
      "   Destination File is in UGRID format\n",
      "   Destination Grid is a global grid\n",
      "   Destination Grid is an unstructured grid\n",
      "   Use the corner coordinates of the destination grid to do the regrid\n",
      "   Regrid Method: bilinear\n",
      "   Pole option: ALL\n",
      "   Ignore unmapped destination points\n",
      "   Line Type: greatcircle\n",
      "   Norm Type: dstarea\n",
      "   Extrap. Method: none\n",
      "\n",
      " Completed weight generation successfully.\n",
      "\n",
      "\n",
      "\n",
      "\n",
      "Variable \"time\" not present in input file.\n",
      "Output file will not contain satellite time.\n",
      "\n",
      "done\n"
     ]
    }
   ],
   "source": [
    "\n",
    "SAMI3_ESMF_Regrid.main(sami_data_path='/home/pxv220016/scratch/2013-03-17_SAMI', \n",
    "                       dtime_sim_start='20130316',\n",
    "                       cols='edens',\n",
    "                       out_dir='/home/pxv220016/prasoon/data/sat_interp_repo/sat-interp-tid-analysis/updated_sat_data/ray_tracing/20130316',\n",
    "                       custom_input_file='single_orbit_los.csv',\n",
    "                       ESMF_DIR='/home/pxv220016/prasoon/data/SAMI3-GITM-python/esmf-8.4.0/apps/appsO/Linux.gfortran.64.openmpi.default/',\n",
    "                       remake_files=True,\n",
    "                         ) \n",
    "\n",
    "print('done')"
   ]
  }
 ],
 "metadata": {
  "kernelspec": {
   "display_name": "Python [conda env:.conda-SAMI3-GITM]",
   "language": "python",
   "name": "conda-env-.conda-SAMI3-GITM-py"
  },
  "language_info": {
   "codemirror_mode": {
    "name": "ipython",
    "version": 3
   },
   "file_extension": ".py",
   "mimetype": "text/x-python",
   "name": "python",
   "nbconvert_exporter": "python",
   "pygments_lexer": "ipython3",
   "version": "3.10.11"
  }
 },
 "nbformat": 4,
 "nbformat_minor": 5
}
